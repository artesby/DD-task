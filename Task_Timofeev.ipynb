{
 "cells": [
  {
   "cell_type": "code",
   "execution_count": 91,
   "metadata": {
    "collapsed": true
   },
   "outputs": [],
   "source": [
    "import pandas as pd\n",
    "import numpy as np\n",
    "import re\n",
    "from nltk.stem.snowball import SnowballStemmer\n",
    "from nltk.tokenize import word_tokenize\n",
    "from nltk.corpus import stopwords\n",
    "\n",
    "from sklearn.pipeline import Pipeline\n",
    "from sklearn import model_selection, preprocessing, naive_bayes, metrics, svm\n",
    "from sklearn.feature_extraction.text import TfidfVectorizer, CountVectorizer, TfidfTransformer\n",
    "from sklearn.utils import resample\n",
    "\n",
    "from sklearn.feature_selection import SelectKBest\n",
    "from sklearn.feature_selection import chi2\n",
    "\n",
    "from sklearn.utils import resample\n",
    "import seaborn as sns\n",
    "import matplotlib.pyplot as plt\n",
    "%matplotlib inline"
   ]
  },
  {
   "cell_type": "markdown",
   "metadata": {},
   "source": [
    " Функция для обработки текста. Нижний регистр => удаление стоп-слов => Портера стеммер => удаляем токены короче 2 символов. В конце склеиваем обратно в строку, чтобы не проделывать обработку каждый раз, когда строим матрицу признаков."
   ]
  },
  {
   "cell_type": "code",
   "execution_count": 34,
   "metadata": {
    "collapsed": true,
    "scrolled": true
   },
   "outputs": [],
   "source": [
    "stemmer = SnowballStemmer(\"russian\")\n",
    "stop_words = stopwords.words(\"russian\")\n",
    "def preprocess(text):\n",
    "    min_length = 3\n",
    "    words = [word.lower() for word in word_tokenize(text) if word.lower() not in stop_words]\n",
    "    stems = [stemmer.stem(token) for token in words]\n",
    "    tokens = [token for token in stems if len(token)>=min_length]\n",
    "    return \" \".join(tokens)\n"
   ]
  },
  {
   "cell_type": "code",
   "execution_count": null,
   "metadata": {
    "collapsed": true
   },
   "outputs": [],
   "source": []
  },
  {
   "cell_type": "code",
   "execution_count": 3,
   "metadata": {
    "scrolled": true
   },
   "outputs": [
    {
     "data": {
      "text/html": [
       "<div>\n",
       "<style scoped>\n",
       "    .dataframe tbody tr th:only-of-type {\n",
       "        vertical-align: middle;\n",
       "    }\n",
       "\n",
       "    .dataframe tbody tr th {\n",
       "        vertical-align: top;\n",
       "    }\n",
       "\n",
       "    .dataframe thead th {\n",
       "        text-align: right;\n",
       "    }\n",
       "</style>\n",
       "<table border=\"1\" class=\"dataframe\">\n",
       "  <thead>\n",
       "    <tr style=\"text-align: right;\">\n",
       "      <th></th>\n",
       "      <th>tags</th>\n",
       "      <th>text</th>\n",
       "      <th>title</th>\n",
       "      <th>topic</th>\n",
       "      <th>url</th>\n",
       "    </tr>\n",
       "  </thead>\n",
       "  <tbody>\n",
       "    <tr>\n",
       "      <th>0</th>\n",
       "      <td>Деловой климат</td>\n",
       "      <td>Заместитель председателя правительства Аркадий...</td>\n",
       "      <td>Правительство прокомментировало идею о запрете...</td>\n",
       "      <td>Бизнес</td>\n",
       "      <td>https://lenta.ru/news/2017/04/01/24hours/</td>\n",
       "    </tr>\n",
       "    <tr>\n",
       "      <th>1</th>\n",
       "      <td>События</td>\n",
       "      <td>Монреальская конвенция об унификации правил во...</td>\n",
       "      <td>Эксперт отвел год на окончательную ратификацию...</td>\n",
       "      <td>Путешествия</td>\n",
       "      <td>https://lenta.ru/news/2017/03/31/motrealwork/</td>\n",
       "    </tr>\n",
       "    <tr>\n",
       "      <th>2</th>\n",
       "      <td>Общество</td>\n",
       "      <td>Сотни байкеров в столице Аргентины Буэнос-Айре...</td>\n",
       "      <td>Аргентинские байкеры устроили акцию протеста п...</td>\n",
       "      <td>Мир</td>\n",
       "      <td>https://lenta.ru/news/2017/03/30/bikers/</td>\n",
       "    </tr>\n",
       "    <tr>\n",
       "      <th>3</th>\n",
       "      <td>Политика</td>\n",
       "      <td>Прямая линия с президентом России Владимиром П...</td>\n",
       "      <td>Прямая линия с Путиным пройдет позже обычного</td>\n",
       "      <td>Россия</td>\n",
       "      <td>https://lenta.ru/news/2017/03/30/straightahead/</td>\n",
       "    </tr>\n",
       "    <tr>\n",
       "      <th>4</th>\n",
       "      <td>Футбол</td>\n",
       "      <td>Нападающий английского «Сандерленда» Данкан Уо...</td>\n",
       "      <td>Английский футболист спас трех человек на отды...</td>\n",
       "      <td>Спорт</td>\n",
       "      <td>https://lenta.ru/news/2017/03/30/duncanwatmore/</td>\n",
       "    </tr>\n",
       "  </tbody>\n",
       "</table>\n",
       "</div>"
      ],
      "text/plain": [
       "             tags                                               text  \\\n",
       "0  Деловой климат  Заместитель председателя правительства Аркадий...   \n",
       "1         События  Монреальская конвенция об унификации правил во...   \n",
       "2        Общество  Сотни байкеров в столице Аргентины Буэнос-Айре...   \n",
       "3        Политика  Прямая линия с президентом России Владимиром П...   \n",
       "4          Футбол  Нападающий английского «Сандерленда» Данкан Уо...   \n",
       "\n",
       "                                               title        topic  \\\n",
       "0  Правительство прокомментировало идею о запрете...       Бизнес   \n",
       "1  Эксперт отвел год на окончательную ратификацию...  Путешествия   \n",
       "2  Аргентинские байкеры устроили акцию протеста п...          Мир   \n",
       "3      Прямая линия с Путиным пройдет позже обычного       Россия   \n",
       "4  Английский футболист спас трех человек на отды...        Спорт   \n",
       "\n",
       "                                               url  \n",
       "0        https://lenta.ru/news/2017/04/01/24hours/  \n",
       "1    https://lenta.ru/news/2017/03/31/motrealwork/  \n",
       "2         https://lenta.ru/news/2017/03/30/bikers/  \n",
       "3  https://lenta.ru/news/2017/03/30/straightahead/  \n",
       "4  https://lenta.ru/news/2017/03/30/duncanwatmore/  "
      ]
     },
     "execution_count": 3,
     "metadata": {},
     "output_type": "execute_result"
    }
   ],
   "source": [
    "df = pd.read_csv(\"lenta_data.csv\")\n",
    "df.head()"
   ]
  },
  {
   "cell_type": "code",
   "execution_count": 4,
   "metadata": {},
   "outputs": [
    {
     "data": {
      "text/plain": [
       "count    635617.000000\n",
       "mean        181.105496\n",
       "std          71.437225\n",
       "min           1.000000\n",
       "25%         133.000000\n",
       "50%         172.000000\n",
       "75%         219.000000\n",
       "max        9016.000000\n",
       "Name: text, dtype: float64"
      ]
     },
     "execution_count": 4,
     "metadata": {},
     "output_type": "execute_result"
    }
   ],
   "source": [
    "df['text'].map(lambda x: len(x.split())).describe()"
   ]
  },
  {
   "cell_type": "markdown",
   "metadata": {},
   "source": [
    "#### Тексты в среднем 180 слов."
   ]
  },
  {
   "cell_type": "code",
   "execution_count": 5,
   "metadata": {},
   "outputs": [
    {
     "data": {
      "text/plain": [
       "count    635617.000000\n",
       "mean          7.451184\n",
       "std           1.751855\n",
       "min           1.000000\n",
       "25%           6.000000\n",
       "50%           7.000000\n",
       "75%           9.000000\n",
       "max          18.000000\n",
       "Name: title, dtype: float64"
      ]
     },
     "execution_count": 5,
     "metadata": {},
     "output_type": "execute_result"
    }
   ],
   "source": [
    "df['title'].map(lambda x: len(x.split())).describe()"
   ]
  },
  {
   "cell_type": "code",
   "execution_count": null,
   "metadata": {
    "collapsed": true
   },
   "outputs": [],
   "source": []
  },
  {
   "cell_type": "code",
   "execution_count": 6,
   "metadata": {},
   "outputs": [
    {
     "data": {
      "text/plain": [
       "Россия               147863\n",
       "Мир                  124749\n",
       "Финансы               72736\n",
       "Спорт                 55395\n",
       "Культура              48264\n",
       "Наука и техника       48129\n",
       "Бывший СССР           47722\n",
       "Интернет и СМИ        38729\n",
       "Из жизни              23267\n",
       "Силовые структуры     13959\n",
       "Бизнес                 6026\n",
       "Путешествия            4006\n",
       "Ценности               3816\n",
       "69-я параллель          567\n",
       "Крым                    116\n",
       "Легпром                 114\n",
       "Культпросвет             85\n",
       "Библиотека               65\n",
       "Недвижимость              3\n",
       "Оружие                    2\n",
       "ЧМ-2014                   2\n",
       "Сочи                      1\n",
       "МедНовости                1\n",
       "Name: topic, dtype: int64"
      ]
     },
     "execution_count": 6,
     "metadata": {},
     "output_type": "execute_result"
    }
   ],
   "source": [
    "topic_counts = df['topic'].value_counts()\n",
    "topic_counts"
   ]
  },
  {
   "cell_type": "markdown",
   "metadata": {},
   "source": [
    "#### Удаляем слабопредставленные темы."
   ]
  },
  {
   "cell_type": "code",
   "execution_count": 7,
   "metadata": {},
   "outputs": [
    {
     "data": {
      "text/plain": [
       "Index(['69-я параллель', 'Крым', 'Легпром', 'Культпросвет ', 'Библиотека',\n",
       "       'Недвижимость', 'Оружие', 'ЧМ-2014', 'Сочи', 'МедНовости'],\n",
       "      dtype='object')"
      ]
     },
     "execution_count": 7,
     "metadata": {},
     "output_type": "execute_result"
    }
   ],
   "source": [
    "rare_topics = topic_counts[topic_counts < 1000].keys()\n",
    "rare_topics"
   ]
  },
  {
   "cell_type": "code",
   "execution_count": 8,
   "metadata": {
    "collapsed": true
   },
   "outputs": [],
   "source": [
    "df.drop(df[df['topic'].isin(rare_topics)].index, inplace=True)"
   ]
  },
  {
   "cell_type": "code",
   "execution_count": 9,
   "metadata": {
    "scrolled": true
   },
   "outputs": [
    {
     "data": {
      "text/plain": [
       "Россия               147863\n",
       "Мир                  124749\n",
       "Финансы               72736\n",
       "Спорт                 55395\n",
       "Культура              48264\n",
       "Наука и техника       48129\n",
       "Бывший СССР           47722\n",
       "Интернет и СМИ        38729\n",
       "Из жизни              23267\n",
       "Силовые структуры     13959\n",
       "Бизнес                 6026\n",
       "Путешествия            4006\n",
       "Ценности               3816\n",
       "Name: topic, dtype: int64"
      ]
     },
     "execution_count": 9,
     "metadata": {},
     "output_type": "execute_result"
    }
   ],
   "source": [
    "df['topic'].value_counts()"
   ]
  },
  {
   "cell_type": "code",
   "execution_count": null,
   "metadata": {
    "collapsed": true
   },
   "outputs": [],
   "source": []
  },
  {
   "cell_type": "code",
   "execution_count": 15,
   "metadata": {},
   "outputs": [
    {
     "name": "stdout",
     "output_type": "stream",
     "text": [
      "Wall time: 11min 36s\n"
     ]
    }
   ],
   "source": [
    "%%time\n",
    "df['title_processed'] = df['title'].map(preprocess)"
   ]
  },
  {
   "cell_type": "code",
   "execution_count": 13,
   "metadata": {},
   "outputs": [
    {
     "name": "stdout",
     "output_type": "stream",
     "text": [
      "Wall time: 4h 11min 55s\n"
     ]
    }
   ],
   "source": [
    "%%time\n",
    "df['text_processed'] = df['text'].map(preprocess)"
   ]
  },
  {
   "cell_type": "code",
   "execution_count": 14,
   "metadata": {
    "collapsed": true
   },
   "outputs": [],
   "source": [
    "df.to_csv(\"preprocessed_news.csv\", sep='\\t', encoding='utf-8', index=False, columns=['tags', 'text_processed', 'title_processed', 'topic'])"
   ]
  },
  {
   "cell_type": "code",
   "execution_count": null,
   "metadata": {
    "collapsed": true
   },
   "outputs": [],
   "source": []
  },
  {
   "cell_type": "code",
   "execution_count": 2,
   "metadata": {},
   "outputs": [
    {
     "name": "stdout",
     "output_type": "stream",
     "text": [
      "<class 'pandas.core.frame.DataFrame'>\n",
      "RangeIndex: 634661 entries, 0 to 634660\n",
      "Data columns (total 4 columns):\n",
      "tags               634661 non-null object\n",
      "text_processed     634658 non-null object\n",
      "title_processed    634661 non-null object\n",
      "topic              634661 non-null object\n",
      "dtypes: object(4)\n",
      "memory usage: 19.4+ MB\n"
     ]
    }
   ],
   "source": [
    "df = pd.read_csv(\"preprocessed_news.csv\", sep='\\t', encoding='utf-8')\n",
    "df.info()"
   ]
  },
  {
   "cell_type": "code",
   "execution_count": 3,
   "metadata": {},
   "outputs": [
    {
     "data": {
      "text/html": [
       "<div>\n",
       "<style>\n",
       "    .dataframe thead tr:only-child th {\n",
       "        text-align: right;\n",
       "    }\n",
       "\n",
       "    .dataframe thead th {\n",
       "        text-align: left;\n",
       "    }\n",
       "\n",
       "    .dataframe tbody tr th {\n",
       "        vertical-align: top;\n",
       "    }\n",
       "</style>\n",
       "<table border=\"1\" class=\"dataframe\">\n",
       "  <thead>\n",
       "    <tr style=\"text-align: right;\">\n",
       "      <th></th>\n",
       "      <th>tags</th>\n",
       "      <th>text_processed</th>\n",
       "      <th>title_processed</th>\n",
       "      <th>topic</th>\n",
       "    </tr>\n",
       "  </thead>\n",
       "  <tbody>\n",
       "    <tr>\n",
       "      <th>0</th>\n",
       "      <td>Деловой климат</td>\n",
       "      <td>заместител председател правительств аркад двор...</td>\n",
       "      <td>правительств прокомментирова запрет круглосуто...</td>\n",
       "      <td>Бизнес</td>\n",
       "    </tr>\n",
       "    <tr>\n",
       "      <th>1</th>\n",
       "      <td>События</td>\n",
       "      <td>монреальск конвенц унификац прав воздушн перев...</td>\n",
       "      <td>эксперт отвел год окончательн ратификац монреа...</td>\n",
       "      <td>Путешествия</td>\n",
       "    </tr>\n",
       "    <tr>\n",
       "      <th>2</th>\n",
       "      <td>Общество</td>\n",
       "      <td>сотн байкер столиц аргентин буэнос-айрес приня...</td>\n",
       "      <td>аргентинск байкер устро акц протест прот шлем ...</td>\n",
       "      <td>Мир</td>\n",
       "    </tr>\n",
       "    <tr>\n",
       "      <th>3</th>\n",
       "      <td>Политика</td>\n",
       "      <td>прям лин президент росс владимир путин 2017 го...</td>\n",
       "      <td>прям лин путин пройдет позж обычн</td>\n",
       "      <td>Россия</td>\n",
       "    </tr>\n",
       "    <tr>\n",
       "      <th>4</th>\n",
       "      <td>Футбол</td>\n",
       "      <td>напада английск сандерленд данка уотмор спас т...</td>\n",
       "      <td>английск футболист спас трех человек отдых бар...</td>\n",
       "      <td>Спорт</td>\n",
       "    </tr>\n",
       "  </tbody>\n",
       "</table>\n",
       "</div>"
      ],
      "text/plain": [
       "             tags                                     text_processed  \\\n",
       "0  Деловой климат  заместител председател правительств аркад двор...   \n",
       "1         События  монреальск конвенц унификац прав воздушн перев...   \n",
       "2        Общество  сотн байкер столиц аргентин буэнос-айрес приня...   \n",
       "3        Политика  прям лин президент росс владимир путин 2017 го...   \n",
       "4          Футбол  напада английск сандерленд данка уотмор спас т...   \n",
       "\n",
       "                                     title_processed        topic  \n",
       "0  правительств прокомментирова запрет круглосуто...       Бизнес  \n",
       "1  эксперт отвел год окончательн ратификац монреа...  Путешествия  \n",
       "2  аргентинск байкер устро акц протест прот шлем ...          Мир  \n",
       "3                  прям лин путин пройдет позж обычн       Россия  \n",
       "4  английск футболист спас трех человек отдых бар...        Спорт  "
      ]
     },
     "execution_count": 3,
     "metadata": {},
     "output_type": "execute_result"
    }
   ],
   "source": [
    "df.head()"
   ]
  },
  {
   "cell_type": "markdown",
   "metadata": {},
   "source": [
    "#### Есть null значения, но мало, удалим их."
   ]
  },
  {
   "cell_type": "code",
   "execution_count": 3,
   "metadata": {
    "collapsed": true
   },
   "outputs": [],
   "source": [
    "df.drop(df[df['text_processed'].isnull()].index, inplace=True)"
   ]
  },
  {
   "cell_type": "code",
   "execution_count": 5,
   "metadata": {},
   "outputs": [
    {
     "name": "stdout",
     "output_type": "stream",
     "text": [
      "<class 'pandas.core.frame.DataFrame'>\n",
      "Int64Index: 634658 entries, 0 to 634660\n",
      "Data columns (total 4 columns):\n",
      "tags               634658 non-null object\n",
      "text_processed     634658 non-null object\n",
      "title_processed    634658 non-null object\n",
      "topic              634658 non-null object\n",
      "dtypes: object(4)\n",
      "memory usage: 24.2+ MB\n"
     ]
    }
   ],
   "source": [
    "df.info()"
   ]
  },
  {
   "cell_type": "markdown",
   "metadata": {},
   "source": [
    "\n",
    "### Обучаемся на текстах новостей.\n",
    "\n",
    "#### Разбиваем выборку на обучающую и тестовую, стандартные параметры: перемешивание и разбиение 3 к 1."
   ]
  },
  {
   "cell_type": "code",
   "execution_count": 4,
   "metadata": {
    "collapsed": true
   },
   "outputs": [],
   "source": [
    "train_x, valid_x, train_y, valid_y = model_selection.train_test_split(df['text_processed'], df['topic'], random_state=17)"
   ]
  },
  {
   "cell_type": "code",
   "execution_count": 104,
   "metadata": {},
   "outputs": [
    {
     "data": {
      "text/plain": [
       "<matplotlib.axes._subplots.AxesSubplot at 0x187aef85320>"
      ]
     },
     "execution_count": 104,
     "metadata": {},
     "output_type": "execute_result"
    },
    {
     "data": {
      "image/png": "[encoded data removed]",
      "text/plain": [
       "<matplotlib.figure.Figure at 0x187a2611ba8>"
      ]
     },
     "metadata": {},
     "output_type": "display_data"
    }
   ],
   "source": [
    "plt.xticks(rotation='vertical')\n",
    "train_y.hist()"
   ]
  },
  {
   "cell_type": "code",
   "execution_count": 106,
   "metadata": {
    "scrolled": false
   },
   "outputs": [
    {
     "data": {
      "text/plain": [
       "<matplotlib.axes._subplots.AxesSubplot at 0x187ae962630>"
      ]
     },
     "execution_count": 106,
     "metadata": {},
     "output_type": "execute_result"
    },
    {
     "data": {
      "image/png": "[encoded data removed]",
      "text/plain": [
       "<matplotlib.figure.Figure at 0x187d4626a90>"
      ]
     },
     "metadata": {},
     "output_type": "display_data"
    }
   ],
   "source": [
    "plt.xticks(rotation='vertical')\n",
    "valid_y.hist()"
   ]
  },
  {
   "cell_type": "markdown",
   "metadata": {},
   "source": [
    "#### Т.е. разбиение пропорционально классам."
   ]
  },
  {
   "cell_type": "code",
   "execution_count": 5,
   "metadata": {},
   "outputs": [
    {
     "data": {
      "text/plain": [
       "8411      первомайск суд мурманск оправда капита траулер...\n",
       "249213    административн комисс фсин направ суд материал...\n",
       "479898    руководител управлен госохра украин валер геле...\n",
       "610394    физик австр канад австрал наблюда пар одиночн ...\n",
       "590781    напада барселон лионел месс приня участ японск...\n",
       "Name: text_processed, dtype: object"
      ]
     },
     "execution_count": 5,
     "metadata": {},
     "output_type": "execute_result"
    }
   ],
   "source": [
    "train_x.head()"
   ]
  },
  {
   "cell_type": "code",
   "execution_count": 7,
   "metadata": {
    "collapsed": true
   },
   "outputs": [],
   "source": [
    "encoder = preprocessing.LabelEncoder()\n",
    "train_y_labels = encoder.fit_transform(train_y)\n",
    "valid_y_labels = encoder.fit_transform(valid_y)"
   ]
  },
  {
   "cell_type": "markdown",
   "metadata": {},
   "source": [
    "## Наивный байесовский классификатор"
   ]
  },
  {
   "cell_type": "code",
   "execution_count": 83,
   "metadata": {
    "collapsed": true
   },
   "outputs": [],
   "source": [
    "pipeline_nb = Pipeline([\n",
    "    ('vect', CountVectorizer()),\n",
    "    ('tfidf', TfidfTransformer()),\n",
    "    ('dim_red', SelectKBest(chi2)),\n",
    "    ('clf', naive_bayes.MultinomialNB())\n",
    "])"
   ]
  },
  {
   "cell_type": "markdown",
   "metadata": {},
   "source": [
    "Попробуем подобрать следующие параметры:\n",
    "* число признаков *k* в отборе \n",
    "* сглаживание *alpha* в классификаторе"
   ]
  },
  {
   "cell_type": "code",
   "execution_count": 84,
   "metadata": {
    "collapsed": true
   },
   "outputs": [],
   "source": [
    "k = [2000, 10000, 50000, 100000]\n",
    "scores = ['f1_macro', 'f1_micro']\n",
    "param_grid = [\n",
    "    {\n",
    "        'dim_red__k': k,\n",
    "    }\n",
    "]"
   ]
  },
  {
   "cell_type": "code",
   "execution_count": 85,
   "metadata": {
    "collapsed": true
   },
   "outputs": [],
   "source": [
    "nb_grid = model_selection.GridSearchCV(estimator=pipeline_nb, cv = 3, \n",
    "                                       param_grid=param_grid, n_jobs=2, scoring=scores, refit='f1_micro', verbose=10)"
   ]
  },
  {
   "cell_type": "code",
   "execution_count": 86,
   "metadata": {
    "scrolled": true
   },
   "outputs": [
    {
     "name": "stdout",
     "output_type": "stream",
     "text": [
      "Fitting 3 folds for each of 4 candidates, totalling 12 fits\n"
     ]
    },
    {
     "name": "stderr",
     "output_type": "stream",
     "text": [
      "[Parallel(n_jobs=2)]: Done   1 tasks      | elapsed:  4.8min\n",
      "[Parallel(n_jobs=2)]: Done   4 tasks      | elapsed: 10.2min\n",
      "[Parallel(n_jobs=2)]: Done   9 tasks      | elapsed: 23.7min\n",
      "[Parallel(n_jobs=2)]: Done  12 out of  12 | elapsed: 28.9min finished\n"
     ]
    },
    {
     "name": "stdout",
     "output_type": "stream",
     "text": [
      "Wall time: 30min 21s\n"
     ]
    }
   ],
   "source": [
    "%%time\n",
    "nb_grid_res = nb_grid.fit(train_x, train_y_labels)"
   ]
  },
  {
   "cell_type": "code",
   "execution_count": 87,
   "metadata": {
    "scrolled": true
   },
   "outputs": [
    {
     "name": "stderr",
     "output_type": "stream",
     "text": [
      "C:\\anaconda\\lib\\site-packages\\sklearn\\utils\\deprecation.py:122: FutureWarning: You are accessing a training score ('mean_train_f1_macro'), which will not be available by default any more in 0.21. If you need training scores, please set return_train_score=True\n",
      "  warnings.warn(*warn_args, **warn_kwargs)\n",
      "C:\\anaconda\\lib\\site-packages\\sklearn\\utils\\deprecation.py:122: FutureWarning: You are accessing a training score ('mean_train_f1_micro'), which will not be available by default any more in 0.21. If you need training scores, please set return_train_score=True\n",
      "  warnings.warn(*warn_args, **warn_kwargs)\n",
      "C:\\anaconda\\lib\\site-packages\\sklearn\\utils\\deprecation.py:122: FutureWarning: You are accessing a training score ('split0_train_f1_macro'), which will not be available by default any more in 0.21. If you need training scores, please set return_train_score=True\n",
      "  warnings.warn(*warn_args, **warn_kwargs)\n",
      "C:\\anaconda\\lib\\site-packages\\sklearn\\utils\\deprecation.py:122: FutureWarning: You are accessing a training score ('split0_train_f1_micro'), which will not be available by default any more in 0.21. If you need training scores, please set return_train_score=True\n",
      "  warnings.warn(*warn_args, **warn_kwargs)\n",
      "C:\\anaconda\\lib\\site-packages\\sklearn\\utils\\deprecation.py:122: FutureWarning: You are accessing a training score ('split1_train_f1_macro'), which will not be available by default any more in 0.21. If you need training scores, please set return_train_score=True\n",
      "  warnings.warn(*warn_args, **warn_kwargs)\n",
      "C:\\anaconda\\lib\\site-packages\\sklearn\\utils\\deprecation.py:122: FutureWarning: You are accessing a training score ('split1_train_f1_micro'), which will not be available by default any more in 0.21. If you need training scores, please set return_train_score=True\n",
      "  warnings.warn(*warn_args, **warn_kwargs)\n",
      "C:\\anaconda\\lib\\site-packages\\sklearn\\utils\\deprecation.py:122: FutureWarning: You are accessing a training score ('split2_train_f1_macro'), which will not be available by default any more in 0.21. If you need training scores, please set return_train_score=True\n",
      "  warnings.warn(*warn_args, **warn_kwargs)\n",
      "C:\\anaconda\\lib\\site-packages\\sklearn\\utils\\deprecation.py:122: FutureWarning: You are accessing a training score ('split2_train_f1_micro'), which will not be available by default any more in 0.21. If you need training scores, please set return_train_score=True\n",
      "  warnings.warn(*warn_args, **warn_kwargs)\n",
      "C:\\anaconda\\lib\\site-packages\\sklearn\\utils\\deprecation.py:122: FutureWarning: You are accessing a training score ('std_train_f1_macro'), which will not be available by default any more in 0.21. If you need training scores, please set return_train_score=True\n",
      "  warnings.warn(*warn_args, **warn_kwargs)\n",
      "C:\\anaconda\\lib\\site-packages\\sklearn\\utils\\deprecation.py:122: FutureWarning: You are accessing a training score ('std_train_f1_micro'), which will not be available by default any more in 0.21. If you need training scores, please set return_train_score=True\n",
      "  warnings.warn(*warn_args, **warn_kwargs)\n"
     ]
    },
    {
     "data": {
      "text/plain": [
       "{'mean_fit_time': array([ 80.84286785,  87.56164638,  83.18368228,  73.02465034]),\n",
       " 'mean_score_time': array([ 63.27508171,  61.82872979,  58.10117237,  61.71723557]),\n",
       " 'mean_test_f1_macro': array([ 0.60844064,  0.68045806,  0.61845062,  0.56290315]),\n",
       " 'mean_test_f1_micro': array([ 0.74337438,  0.78786453,  0.788291  ,  0.77350717]),\n",
       " 'mean_train_f1_macro': array([ 0.61112217,  0.69095031,  0.63836222,  0.58355266]),\n",
       " 'mean_train_f1_micro': array([ 0.74381557,  0.79178896,  0.79683735,  0.78508823]),\n",
       " 'param_dim_red__k': masked_array(data = [2000 10000 50000 100000],\n",
       "              mask = [False False False False],\n",
       "        fill_value = ?),\n",
       " 'params': [{'dim_red__k': 2000},\n",
       "  {'dim_red__k': 10000},\n",
       "  {'dim_red__k': 50000},\n",
       "  {'dim_red__k': 100000}],\n",
       " 'rank_test_f1_macro': array([3, 1, 2, 4]),\n",
       " 'rank_test_f1_micro': array([4, 2, 1, 3]),\n",
       " 'split0_test_f1_macro': array([ 0.60823544,  0.68011867,  0.61993326,  0.56218258]),\n",
       " 'split0_test_f1_micro': array([ 0.74246225,  0.7865165 ,  0.78718456,  0.77210276]),\n",
       " 'split0_train_f1_macro': array([ 0.61127217,  0.69115921,  0.63801381,  0.58385144]),\n",
       " 'split0_train_f1_micro': array([ 0.7447601 ,  0.79244308,  0.7973119 ,  0.78573072]),\n",
       " 'split1_test_f1_macro': array([ 0.61021696,  0.68125666,  0.61707772,  0.56339854]),\n",
       " 'split1_test_f1_micro': array([ 0.74367378,  0.78825198,  0.78845996,  0.77398922]),\n",
       " 'split1_train_f1_macro': array([ 0.6097806 ,  0.69048067,  0.63837013,  0.58339813]),\n",
       " 'split1_train_f1_micro': array([ 0.74365325,  0.79157843,  0.79653545,  0.78491025]),\n",
       " 'split2_test_f1_macro': array([ 0.60686948,  0.67999885,  0.61834086,  0.56312835]),\n",
       " 'split2_test_f1_micro': array([ 0.74398714,  0.78882516,  0.78922854,  0.7744296 ]),\n",
       " 'split2_train_f1_macro': array([ 0.61231375,  0.69121106,  0.6387027 ,  0.58340842]),\n",
       " 'split2_train_f1_micro': array([ 0.74303334,  0.79134537,  0.7966647 ,  0.78462372]),\n",
       " 'std_fit_time': array([ 10.08497317,   8.60299431,  11.78468636,   4.87277605]),\n",
       " 'std_score_time': array([ 1.20911217,  2.5811243 ,  1.96840041,  2.66850429]),\n",
       " 'std_test_f1_macro': array([ 0.00137428,  0.00056681,  0.00116836,  0.00052133]),\n",
       " 'std_test_f1_micro': array([ 0.00065755,  0.00098152,  0.00084296,  0.00100923]),\n",
       " 'std_train_f1_macro': array([ 0.00103958,  0.00033276,  0.00028129,  0.00021131]),\n",
       " 'std_train_f1_micro': array([ 0.00071423,  0.00047222,  0.00033968,  0.00046912])}"
      ]
     },
     "execution_count": 87,
     "metadata": {},
     "output_type": "execute_result"
    }
   ],
   "source": [
    "nb_grid_res.cv_results_"
   ]
  },
  {
   "cell_type": "markdown",
   "metadata": {},
   "source": [
    "#### Смотрим на средние значения оценок на тестовых сплитах, из данных значений лучшим является при *k = 10 000*."
   ]
  },
  {
   "cell_type": "code",
   "execution_count": null,
   "metadata": {
    "collapsed": true
   },
   "outputs": [],
   "source": []
  },
  {
   "cell_type": "code",
   "execution_count": 88,
   "metadata": {
    "collapsed": true
   },
   "outputs": [],
   "source": [
    "pipeline_nb = Pipeline([\n",
    "    ('vect', CountVectorizer()),\n",
    "    ('tfidf', TfidfTransformer()),\n",
    "    ('dim_red', SelectKBest(chi2, k=10000)),\n",
    "    ('clf', naive_bayes.MultinomialNB())\n",
    "])"
   ]
  },
  {
   "cell_type": "code",
   "execution_count": 91,
   "metadata": {
    "collapsed": true
   },
   "outputs": [],
   "source": [
    "alpha = [1e-2, 1e-1, 1]\n",
    "scores = ['f1_macro', 'f1_micro']\n",
    "param_grid = [\n",
    "    {\n",
    "        'clf__alpha': alpha,\n",
    "    }\n",
    "]"
   ]
  },
  {
   "cell_type": "code",
   "execution_count": 92,
   "metadata": {
    "collapsed": true
   },
   "outputs": [],
   "source": [
    "nb_grid = model_selection.GridSearchCV(estimator=pipeline_nb, cv = 3, param_grid=param_grid,\n",
    "                                       n_jobs=2, scoring=scores, refit='f1_micro', verbose=10, return_train_score=True)"
   ]
  },
  {
   "cell_type": "code",
   "execution_count": 93,
   "metadata": {
    "scrolled": true
   },
   "outputs": [
    {
     "name": "stdout",
     "output_type": "stream",
     "text": [
      "Fitting 3 folds for each of 3 candidates, totalling 9 fits\n"
     ]
    },
    {
     "name": "stderr",
     "output_type": "stream",
     "text": [
      "[Parallel(n_jobs=2)]: Done   1 tasks      | elapsed:  4.6min\n",
      "[Parallel(n_jobs=2)]: Done   4 tasks      | elapsed:  9.7min\n",
      "[Parallel(n_jobs=2)]: Done   7 out of   9 | elapsed: 18.7min remaining:  5.3min\n",
      "[Parallel(n_jobs=2)]: Done   9 out of   9 | elapsed: 22.3min remaining:    0.0s\n",
      "[Parallel(n_jobs=2)]: Done   9 out of   9 | elapsed: 22.3min finished\n"
     ]
    },
    {
     "name": "stdout",
     "output_type": "stream",
     "text": [
      "Wall time: 23min 57s\n"
     ]
    }
   ],
   "source": [
    "%%time\n",
    "nb_grid_res = nb_grid.fit(train_x, train_y_labels)"
   ]
  },
  {
   "cell_type": "code",
   "execution_count": 94,
   "metadata": {
    "scrolled": true
   },
   "outputs": [
    {
     "data": {
      "text/plain": [
       "{'mean_fit_time': array([ 78.60774763,  90.85415943,  72.94453788]),\n",
       " 'mean_score_time': array([ 59.75944161,  60.54053609,  56.49108624]),\n",
       " 'mean_test_f1_macro': array([ 0.7187947 ,  0.71560987,  0.68045806]),\n",
       " 'mean_test_f1_micro': array([ 0.79500959,  0.79416714,  0.78786453]),\n",
       " 'mean_train_f1_macro': array([ 0.73578444,  0.72982295,  0.69095031]),\n",
       " 'mean_train_f1_micro': array([ 0.80174079,  0.79977542,  0.79178896]),\n",
       " 'param_clf__alpha': masked_array(data = [0.01 0.1 1],\n",
       "              mask = [False False False],\n",
       "        fill_value = ?),\n",
       " 'params': [{'clf__alpha': 0.01}, {'clf__alpha': 0.1}, {'clf__alpha': 1}],\n",
       " 'rank_test_f1_macro': array([1, 2, 3]),\n",
       " 'rank_test_f1_micro': array([1, 2, 3]),\n",
       " 'split0_test_f1_macro': array([ 0.71804834,  0.71518377,  0.68011867]),\n",
       " 'split0_test_f1_micro': array([ 0.79385257,  0.79298283,  0.7865165 ]),\n",
       " 'split0_train_f1_macro': array([ 0.73706573,  0.73079621,  0.69115921]),\n",
       " 'split0_train_f1_micro': array([ 0.80250217,  0.80052627,  0.79244308]),\n",
       " 'split1_test_f1_macro': array([ 0.72035389,  0.7168577 ,  0.68125666]),\n",
       " 'split1_test_f1_micro': array([ 0.79535499,  0.79453566,  0.78825198]),\n",
       " 'split1_train_f1_macro': array([ 0.73461805,  0.72861857,  0.69048067]),\n",
       " 'split1_train_f1_micro': array([ 0.80149246,  0.79944096,  0.79157843]),\n",
       " 'split2_test_f1_macro': array([ 0.71798186,  0.71478813,  0.67999885]),\n",
       " 'split2_test_f1_micro': array([ 0.79582125,  0.79498298,  0.78882516]),\n",
       " 'split2_train_f1_macro': array([ 0.73566953,  0.73005406,  0.69121106]),\n",
       " 'split2_train_f1_micro': array([ 0.80122773,  0.79935903,  0.79134537]),\n",
       " 'std_fit_time': array([  8.56747298,  10.16998516,  11.69550594]),\n",
       " 'std_score_time': array([ 0.41819707,  2.18253578,  3.35614552]),\n",
       " 'std_test_f1_macro': array([ 0.00110285,  0.00089701,  0.00056681]),\n",
       " 'std_test_f1_micro': array([ 0.00084   ,  0.00085713,  0.00098152]),\n",
       " 'std_train_f1_macro': array([ 0.00100256,  0.00090392,  0.00033276]),\n",
       " 'std_train_f1_micro': array([ 0.00054912,  0.00053199,  0.00047222])}"
      ]
     },
     "execution_count": 94,
     "metadata": {},
     "output_type": "execute_result"
    }
   ],
   "source": [
    "nb_grid_res.cv_results_"
   ]
  },
  {
   "cell_type": "markdown",
   "metadata": {
    "collapsed": true
   },
   "source": [
    "*alpha = 0.01*"
   ]
  },
  {
   "cell_type": "code",
   "execution_count": 271,
   "metadata": {
    "collapsed": true
   },
   "outputs": [],
   "source": [
    "pipeline_nb = Pipeline([\n",
    "    ('vect', CountVectorizer()),\n",
    "    ('tfidf', TfidfTransformer()),\n",
    "    ('dim_red', SelectKBest(chi2, k=10000)),\n",
    "    ('clf', naive_bayes.MultinomialNB(alpha=1e-2))\n",
    "])"
   ]
  },
  {
   "cell_type": "code",
   "execution_count": 273,
   "metadata": {
    "collapsed": true
   },
   "outputs": [],
   "source": [
    "nb_unbalanced = pipeline_nb.fit(train_x, train_y_labels)"
   ]
  },
  {
   "cell_type": "code",
   "execution_count": 274,
   "metadata": {},
   "outputs": [
    {
     "name": "stdout",
     "output_type": "stream",
     "text": [
      "Wall time: 23.4 s\n"
     ]
    }
   ],
   "source": [
    "%%time\n",
    "nb_prediction_unbalanced = nb_unbalanced.predict(valid_x)"
   ]
  },
  {
   "cell_type": "code",
   "execution_count": 296,
   "metadata": {},
   "outputs": [
    {
     "data": {
      "text/plain": [
       "(0.7224784145319606, 0.7956638199981092, 0.79129132428041637)"
      ]
     },
     "execution_count": 296,
     "metadata": {},
     "output_type": "execute_result"
    }
   ],
   "source": [
    "metrics.f1_score(valid_y_labels, nb_prediction_unbalanced, average='macro'), \\\n",
    "metrics.f1_score(valid_y_labels, nb_prediction_unbalanced, average='micro'), \\\n",
    "metrics.f1_score(valid_y_labels, nb_prediction_unbalanced, average='weighted')"
   ]
  },
  {
   "cell_type": "code",
   "execution_count": 276,
   "metadata": {},
   "outputs": [
    {
     "name": "stdout",
     "output_type": "stream",
     "text": [
      "                   precision    recall  f1-score   support\n",
      "\n",
      "           Бизнес       0.62      0.28      0.39      1465\n",
      "      Бывший СССР       0.78      0.74      0.76     11917\n",
      "         Из жизни       0.64      0.50      0.56      5909\n",
      "   Интернет и СМИ       0.77      0.65      0.70      9773\n",
      "         Культура       0.85      0.89      0.87     12244\n",
      "              Мир       0.78      0.82      0.80     31219\n",
      "  Наука и техника       0.82      0.81      0.82     11851\n",
      "      Путешествия       0.69      0.61      0.65      1000\n",
      "           Россия       0.75      0.81      0.78     36942\n",
      "Силовые структуры       0.53      0.31      0.39      3400\n",
      "            Спорт       0.97      0.95      0.96     13854\n",
      "          Финансы       0.83      0.87      0.85     18136\n",
      "         Ценности       0.85      0.87      0.86       955\n",
      "\n",
      "      avg / total       0.79      0.80      0.79    158665\n",
      "\n"
     ]
    }
   ],
   "source": [
    "print(metrics.classification_report(y_pred=nb_prediction_unbalanced, y_true=valid_y_labels, target_names=encoder.classes_))"
   ]
  },
  {
   "cell_type": "code",
   "execution_count": 277,
   "metadata": {},
   "outputs": [
    {
     "data": {
      "text/plain": [
       "<matplotlib.axes._subplots.AxesSubplot at 0x20679aedb70>"
      ]
     },
     "execution_count": 277,
     "metadata": {},
     "output_type": "execute_result"
    },
    {
     "data": {
      "image/png": "[encoded data removed]",
      "text/plain": [
       "<matplotlib.figure.Figure at 0x206799d8f98>"
      ]
     },
     "metadata": {},
     "output_type": "display_data"
    }
   ],
   "source": [
    "cm = metrics.confusion_matrix(y_pred=nb_prediction_unbalanced, y_true=valid_y_labels)\n",
    "plt.figure(figsize = (15,10))\n",
    "sns.heatmap(cm, annot=True, fmt='.5g', xticklabels=encoder.classes_, yticklabels=encoder.classes_)"
   ]
  },
  {
   "cell_type": "markdown",
   "metadata": {},
   "source": [
    " Можно заметить, что страдают некоторые малопредставленные классы: *Бизнес*, *Из жизни*, *Силовые структуры* имеют низкое значение полноты, т.е. часто ложно относятся к классам, которые сильнее представлены в коллекции."
   ]
  },
  {
   "cell_type": "code",
   "execution_count": 17,
   "metadata": {
    "collapsed": true
   },
   "outputs": [],
   "source": []
  },
  {
   "cell_type": "markdown",
   "metadata": {},
   "source": [
    "## Машина опорных векторов\n",
    "\n",
    "C линейным ядром"
   ]
  },
  {
   "cell_type": "code",
   "execution_count": 58,
   "metadata": {
    "collapsed": true
   },
   "outputs": [],
   "source": [
    "pipeline_svm = Pipeline([\n",
    "    ('vect', CountVectorizer()),\n",
    "    ('tfidf', TfidfTransformer()),\n",
    "    ('dim_red', SelectKBest(chi2)),\n",
    "    ('clf', svm.LinearSVC(C = 1))\n",
    "])"
   ]
  },
  {
   "cell_type": "markdown",
   "metadata": {},
   "source": [
    "#### Аналогично, подберем размер словаря с использованием кросс-валидации."
   ]
  },
  {
   "cell_type": "code",
   "execution_count": 61,
   "metadata": {
    "collapsed": true
   },
   "outputs": [],
   "source": [
    "k = [2000, 10000, 50000, 100000]\n",
    "scores = ['f1_micro', 'f1_macro']\n",
    "param_grid = [\n",
    "    {\n",
    "        'dim_red__k': k,\n",
    "    }\n",
    "]"
   ]
  },
  {
   "cell_type": "code",
   "execution_count": 62,
   "metadata": {
    "collapsed": true
   },
   "outputs": [],
   "source": [
    "svm_grid = model_selection.GridSearchCV(estimator=pipeline_svm, cv = 3, \n",
    "                                        param_grid=param_grid, n_jobs=2, scoring=scores, refit='f1_micro')"
   ]
  },
  {
   "cell_type": "code",
   "execution_count": 63,
   "metadata": {},
   "outputs": [
    {
     "name": "stdout",
     "output_type": "stream",
     "text": [
      "Wall time: 38min 58s\n"
     ]
    }
   ],
   "source": [
    "%%time\n",
    "svm_grid_res = svm_grid.fit(train_x, train_y_labels)"
   ]
  },
  {
   "cell_type": "code",
   "execution_count": 74,
   "metadata": {
    "scrolled": true
   },
   "outputs": [
    {
     "name": "stderr",
     "output_type": "stream",
     "text": [
      "C:\\anaconda\\lib\\site-packages\\sklearn\\utils\\deprecation.py:122: FutureWarning: You are accessing a training score ('mean_train_f1_macro'), which will not be available by default any more in 0.21. If you need training scores, please set return_train_score=True\n",
      "  warnings.warn(*warn_args, **warn_kwargs)\n",
      "C:\\anaconda\\lib\\site-packages\\sklearn\\utils\\deprecation.py:122: FutureWarning: You are accessing a training score ('mean_train_f1_micro'), which will not be available by default any more in 0.21. If you need training scores, please set return_train_score=True\n",
      "  warnings.warn(*warn_args, **warn_kwargs)\n",
      "C:\\anaconda\\lib\\site-packages\\sklearn\\utils\\deprecation.py:122: FutureWarning: You are accessing a training score ('split0_train_f1_macro'), which will not be available by default any more in 0.21. If you need training scores, please set return_train_score=True\n",
      "  warnings.warn(*warn_args, **warn_kwargs)\n",
      "C:\\anaconda\\lib\\site-packages\\sklearn\\utils\\deprecation.py:122: FutureWarning: You are accessing a training score ('split0_train_f1_micro'), which will not be available by default any more in 0.21. If you need training scores, please set return_train_score=True\n",
      "  warnings.warn(*warn_args, **warn_kwargs)\n",
      "C:\\anaconda\\lib\\site-packages\\sklearn\\utils\\deprecation.py:122: FutureWarning: You are accessing a training score ('split1_train_f1_macro'), which will not be available by default any more in 0.21. If you need training scores, please set return_train_score=True\n",
      "  warnings.warn(*warn_args, **warn_kwargs)\n",
      "C:\\anaconda\\lib\\site-packages\\sklearn\\utils\\deprecation.py:122: FutureWarning: You are accessing a training score ('split1_train_f1_micro'), which will not be available by default any more in 0.21. If you need training scores, please set return_train_score=True\n",
      "  warnings.warn(*warn_args, **warn_kwargs)\n",
      "C:\\anaconda\\lib\\site-packages\\sklearn\\utils\\deprecation.py:122: FutureWarning: You are accessing a training score ('split2_train_f1_macro'), which will not be available by default any more in 0.21. If you need training scores, please set return_train_score=True\n",
      "  warnings.warn(*warn_args, **warn_kwargs)\n",
      "C:\\anaconda\\lib\\site-packages\\sklearn\\utils\\deprecation.py:122: FutureWarning: You are accessing a training score ('split2_train_f1_micro'), which will not be available by default any more in 0.21. If you need training scores, please set return_train_score=True\n",
      "  warnings.warn(*warn_args, **warn_kwargs)\n",
      "C:\\anaconda\\lib\\site-packages\\sklearn\\utils\\deprecation.py:122: FutureWarning: You are accessing a training score ('std_train_f1_macro'), which will not be available by default any more in 0.21. If you need training scores, please set return_train_score=True\n",
      "  warnings.warn(*warn_args, **warn_kwargs)\n",
      "C:\\anaconda\\lib\\site-packages\\sklearn\\utils\\deprecation.py:122: FutureWarning: You are accessing a training score ('std_train_f1_micro'), which will not be available by default any more in 0.21. If you need training scores, please set return_train_score=True\n",
      "  warnings.warn(*warn_args, **warn_kwargs)\n"
     ]
    },
    {
     "data": {
      "text/plain": [
       "{'mean_fit_time': array([ 138.15480344,  143.84265749,  149.96434824,  121.8545924 ]),\n",
       " 'mean_score_time': array([ 58.96638028,  58.74128723,  73.15260108,  58.80556575]),\n",
       " 'mean_test_f1_macro': array([ 0.74697215,  0.80293963,  0.81626335,  0.81710256]),\n",
       " 'mean_test_f1_micro': array([ 0.81270523,  0.8451868 ,  0.85348524,  0.85486551]),\n",
       " 'mean_train_f1_macro': array([ 0.76019369,  0.85027988,  0.91905207,  0.9391753 ]),\n",
       " 'mean_train_f1_micro': array([ 0.81929882,  0.87089097,  0.91762379,  0.93541607]),\n",
       " 'param_dim_red__k': masked_array(data = [2000 10000 50000 100000],\n",
       "              mask = [False False False False],\n",
       "        fill_value = ?),\n",
       " 'params': [{'dim_red__k': 2000},\n",
       "  {'dim_red__k': 10000},\n",
       "  {'dim_red__k': 50000},\n",
       "  {'dim_red__k': 100000}],\n",
       " 'rank_test_f1_macro': array([4, 3, 2, 1]),\n",
       " 'rank_test_f1_micro': array([4, 3, 2, 1]),\n",
       " 'split0_test_f1_macro': array([ 0.7450598 ,  0.80150033,  0.81552489,  0.8158046 ]),\n",
       " 'split0_test_f1_micro': array([ 0.81050369,  0.84325762,  0.85218822,  0.85344871]),\n",
       " 'split0_train_f1_macro': array([ 0.76105844,  0.85085303,  0.91925673,  0.93944053]),\n",
       " 'split0_train_f1_micro': array([ 0.82038289,  0.87166155,  0.91785394,  0.93575356]),\n",
       " 'split1_test_f1_macro': array([ 0.74799353,  0.80301584,  0.81491489,  0.81515281]),\n",
       " 'split1_test_f1_micro': array([ 0.81239719,  0.8453156 ,  0.85311821,  0.8543157 ]),\n",
       " 'split1_train_f1_macro': array([ 0.76053215,  0.85096629,  0.91944767,  0.93901602]),\n",
       " 'split1_train_f1_micro': array([ 0.81920915,  0.87095686,  0.91821396,  0.93579829]),\n",
       " 'split2_test_f1_macro': array([ 0.74786317,  0.80430277,  0.81835034,  0.8203504 ]),\n",
       " 'split2_test_f1_micro': array([ 0.81521492,  0.84698727,  0.85514938,  0.85683222]),\n",
       " 'split2_train_f1_macro': array([ 0.75899047,  0.84902031,  0.91845181,  0.93906936]),\n",
       " 'split2_train_f1_micro': array([ 0.81830443,  0.87005449,  0.91680348,  0.93469636]),\n",
       " 'std_fit_time': array([ 13.82114533,  13.68619325,  10.02678113,   1.01930085]),\n",
       " 'std_score_time': array([  0.37310866,   1.30525805,  24.1890238 ,   6.18508389]),\n",
       " 'std_test_f1_macro': array([ 0.0013533 ,  0.00114536,  0.00149656,  0.00231189]),\n",
       " 'std_test_f1_micro': array([ 0.00193564,  0.00152534,  0.00123643,  0.00143498]),\n",
       " 'std_train_f1_macro': array([ 0.00087752,  0.00089185,  0.00043155,  0.0001888 ]),\n",
       " 'std_train_f1_micro': array([ 0.00085089,  0.00065773,  0.00059838,  0.00050924])}"
      ]
     },
     "execution_count": 74,
     "metadata": {},
     "output_type": "execute_result"
    }
   ],
   "source": [
    "svm_grid_res.cv_results_"
   ]
  },
  {
   "cell_type": "markdown",
   "metadata": {},
   "source": [
    "#### Переход от *k = 50 000* к *k = 100 000* не дает существенного улучшения оценки, поэтому остановимся на *k = 50 000*."
   ]
  },
  {
   "cell_type": "code",
   "execution_count": 135,
   "metadata": {
    "collapsed": true
   },
   "outputs": [],
   "source": [
    "pipeline_svm = Pipeline([\n",
    "    ('vect', CountVectorizer()),\n",
    "    ('tfidf', TfidfTransformer()),\n",
    "    ('dim_red', SelectKBest(chi2, k=50000)),\n",
    "    ('clf', svm.LinearSVC())\n",
    "])"
   ]
  },
  {
   "cell_type": "code",
   "execution_count": 136,
   "metadata": {
    "collapsed": true
   },
   "outputs": [],
   "source": [
    "C = [0.01, 0.1, 1, 10]\n",
    "scores = ['f1_micro', 'f1_macro']\n",
    "param_grid = [\n",
    "    {\n",
    "        'clf__C': C,\n",
    "    }\n",
    "]"
   ]
  },
  {
   "cell_type": "code",
   "execution_count": 137,
   "metadata": {
    "collapsed": true
   },
   "outputs": [],
   "source": [
    "svm_grid = model_selection.GridSearchCV(estimator=pipeline_svm, cv = 3, \n",
    "                                        param_grid=param_grid, n_jobs=2, scoring=scores, refit='f1_micro')"
   ]
  },
  {
   "cell_type": "code",
   "execution_count": 138,
   "metadata": {},
   "outputs": [
    {
     "name": "stdout",
     "output_type": "stream",
     "text": [
      "Wall time: 44min 6s\n"
     ]
    }
   ],
   "source": [
    "%%time\n",
    "svm_grid_res = svm_grid.fit(train_x, train_y_labels)"
   ]
  },
  {
   "cell_type": "code",
   "execution_count": 139,
   "metadata": {
    "scrolled": true
   },
   "outputs": [
    {
     "name": "stderr",
     "output_type": "stream",
     "text": [
      "C:\\anaconda\\lib\\site-packages\\sklearn\\utils\\deprecation.py:122: FutureWarning: You are accessing a training score ('mean_train_f1_macro'), which will not be available by default any more in 0.21. If you need training scores, please set return_train_score=True\n",
      "  warnings.warn(*warn_args, **warn_kwargs)\n",
      "C:\\anaconda\\lib\\site-packages\\sklearn\\utils\\deprecation.py:122: FutureWarning: You are accessing a training score ('mean_train_f1_micro'), which will not be available by default any more in 0.21. If you need training scores, please set return_train_score=True\n",
      "  warnings.warn(*warn_args, **warn_kwargs)\n",
      "C:\\anaconda\\lib\\site-packages\\sklearn\\utils\\deprecation.py:122: FutureWarning: You are accessing a training score ('split0_train_f1_macro'), which will not be available by default any more in 0.21. If you need training scores, please set return_train_score=True\n",
      "  warnings.warn(*warn_args, **warn_kwargs)\n",
      "C:\\anaconda\\lib\\site-packages\\sklearn\\utils\\deprecation.py:122: FutureWarning: You are accessing a training score ('split0_train_f1_micro'), which will not be available by default any more in 0.21. If you need training scores, please set return_train_score=True\n",
      "  warnings.warn(*warn_args, **warn_kwargs)\n",
      "C:\\anaconda\\lib\\site-packages\\sklearn\\utils\\deprecation.py:122: FutureWarning: You are accessing a training score ('split1_train_f1_macro'), which will not be available by default any more in 0.21. If you need training scores, please set return_train_score=True\n",
      "  warnings.warn(*warn_args, **warn_kwargs)\n",
      "C:\\anaconda\\lib\\site-packages\\sklearn\\utils\\deprecation.py:122: FutureWarning: You are accessing a training score ('split1_train_f1_micro'), which will not be available by default any more in 0.21. If you need training scores, please set return_train_score=True\n",
      "  warnings.warn(*warn_args, **warn_kwargs)\n",
      "C:\\anaconda\\lib\\site-packages\\sklearn\\utils\\deprecation.py:122: FutureWarning: You are accessing a training score ('split2_train_f1_macro'), which will not be available by default any more in 0.21. If you need training scores, please set return_train_score=True\n",
      "  warnings.warn(*warn_args, **warn_kwargs)\n",
      "C:\\anaconda\\lib\\site-packages\\sklearn\\utils\\deprecation.py:122: FutureWarning: You are accessing a training score ('split2_train_f1_micro'), which will not be available by default any more in 0.21. If you need training scores, please set return_train_score=True\n",
      "  warnings.warn(*warn_args, **warn_kwargs)\n",
      "C:\\anaconda\\lib\\site-packages\\sklearn\\utils\\deprecation.py:122: FutureWarning: You are accessing a training score ('std_train_f1_macro'), which will not be available by default any more in 0.21. If you need training scores, please set return_train_score=True\n",
      "  warnings.warn(*warn_args, **warn_kwargs)\n",
      "C:\\anaconda\\lib\\site-packages\\sklearn\\utils\\deprecation.py:122: FutureWarning: You are accessing a training score ('std_train_f1_micro'), which will not be available by default any more in 0.21. If you need training scores, please set return_train_score=True\n",
      "  warnings.warn(*warn_args, **warn_kwargs)\n"
     ]
    },
    {
     "data": {
      "text/plain": [
       "{'mean_fit_time': array([ 194.58471282,  150.62817105,  140.80820282,  268.93825372]),\n",
       " 'mean_score_time': array([ 59.50206772,  62.98153178,  58.47793754,  61.28575333]),\n",
       " 'mean_test_f1_macro': array([ 0.69012949,  0.78875834,  0.81626223,  0.79934313]),\n",
       " 'mean_test_f1_micro': array([ 0.81388802,  0.84723305,  0.85348314,  0.83831275]),\n",
       " 'mean_train_f1_macro': array([ 0.70077024,  0.82995719,  0.91905189,  0.96647465]),\n",
       " 'mean_train_f1_micro': array([ 0.82017804,  0.87132374,  0.91762379,  0.95329869]),\n",
       " 'param_clf__C': masked_array(data = [0.01 0.1 1 10],\n",
       "              mask = [False False False False],\n",
       "        fill_value = ?),\n",
       " 'params': [{'clf__C': 0.01}, {'clf__C': 0.1}, {'clf__C': 1}, {'clf__C': 10}],\n",
       " 'rank_test_f1_macro': array([4, 3, 1, 2]),\n",
       " 'rank_test_f1_micro': array([4, 2, 1, 3]),\n",
       " 'split0_test_f1_macro': array([ 0.68789574,  0.78695618,  0.81552489,  0.79822664]),\n",
       " 'split0_test_f1_micro': array([ 0.81158772,  0.84529332,  0.85218822,  0.8370686 ]),\n",
       " 'split0_train_f1_macro': array([ 0.70362167,  0.8297014 ,  0.91925899,  0.96640046]),\n",
       " 'split0_train_f1_micro': array([ 0.82136611,  0.87168676,  0.91785709,  0.95344836]),\n",
       " 'split1_test_f1_macro': array([ 0.69162913,  0.79036764,  0.81491489,  0.79849057]),\n",
       " 'split1_test_f1_micro': array([ 0.81430687,  0.84777361,  0.85311821,  0.83761384]),\n",
       " 'split1_train_f1_macro': array([ 0.69802384,  0.8312628 ,  0.91944767,  0.96660815]),\n",
       " 'split1_train_f1_micro': array([ 0.81974487,  0.87153986,  0.91821396,  0.95376393]),\n",
       " 'split2_test_f1_macro': array([ 0.69086365,  0.78895124,  0.81834699,  0.80131228]),\n",
       " 'split2_test_f1_micro': array([ 0.81576957,  0.8486323 ,  0.85514307,  0.84025589]),\n",
       " 'split2_train_f1_macro': array([ 0.70066522,  0.82890738,  0.918449  ,  0.96641533]),\n",
       " 'split2_train_f1_micro': array([ 0.81942313,  0.87074461,  0.91680033,  0.95268377]),\n",
       " 'std_fit_time': array([  3.77384063,  13.2128572 ,  11.02625808,   5.44274318]),\n",
       " 'std_score_time': array([  1.8078674 ,   1.49490189,   3.55185735,  12.53059927]),\n",
       " 'std_test_f1_macro': array([ 0.00161014,  0.00139939,  0.001495  ,  0.00139653]),\n",
       " 'std_test_f1_micro': array([ 0.00173273,  0.00141571,  0.00123361,  0.0013919 ]),\n",
       " 'std_train_f1_macro': array([  2.28650951e-03,   9.78457246e-04,   4.33208387e-04,\n",
       "          9.45961187e-05]),\n",
       " 'std_train_f1_micro': array([ 0.0008503 ,  0.00041387,  0.00060023,  0.00045349])}"
      ]
     },
     "execution_count": 139,
     "metadata": {},
     "output_type": "execute_result"
    }
   ],
   "source": [
    "svm_grid_res.cv_results_"
   ]
  },
  {
   "cell_type": "code",
   "execution_count": 286,
   "metadata": {
    "collapsed": true
   },
   "outputs": [],
   "source": [
    "pipeline_svm = Pipeline([\n",
    "    ('vect', CountVectorizer()),\n",
    "    ('tfidf', TfidfTransformer()),\n",
    "    ('dim_red', SelectKBest(chi2, k=50000)),\n",
    "    ('clf', svm.LinearSVC(C=1))\n",
    "])"
   ]
  },
  {
   "cell_type": "code",
   "execution_count": 287,
   "metadata": {
    "collapsed": true
   },
   "outputs": [],
   "source": [
    "svm_unbalanced = pipeline_svm.fit(train_x, train_y_labels)"
   ]
  },
  {
   "cell_type": "code",
   "execution_count": 288,
   "metadata": {},
   "outputs": [
    {
     "name": "stdout",
     "output_type": "stream",
     "text": [
      "Wall time: 23 s\n"
     ]
    }
   ],
   "source": [
    "%%time\n",
    "svm_prediction_unbalanced = svm_unbalanced.predict(valid_x)"
   ]
  },
  {
   "cell_type": "code",
   "execution_count": 295,
   "metadata": {},
   "outputs": [
    {
     "data": {
      "text/plain": [
       "(0.82307656408834184, 0.85858254813600987, 0.85693926909289664)"
      ]
     },
     "execution_count": 295,
     "metadata": {},
     "output_type": "execute_result"
    }
   ],
   "source": [
    "metrics.f1_score(valid_y_labels, svm_prediction_unbalanced, average='macro'), \\\n",
    "metrics.f1_score(valid_y_labels, svm_prediction_unbalanced, average='micro'), \\\n",
    "metrics.f1_score(valid_y_labels, svm_prediction_unbalanced, average='weighted')"
   ]
  },
  {
   "cell_type": "code",
   "execution_count": 291,
   "metadata": {},
   "outputs": [
    {
     "name": "stdout",
     "output_type": "stream",
     "text": [
      "                   precision    recall  f1-score   support\n",
      "\n",
      "           Бизнес       0.75      0.53      0.62      1465\n",
      "      Бывший СССР       0.86      0.89      0.87     11917\n",
      "         Из жизни       0.73      0.62      0.67      5909\n",
      "   Интернет и СМИ       0.82      0.77      0.79      9773\n",
      "         Культура       0.90      0.92      0.91     12244\n",
      "              Мир       0.83      0.86      0.85     31219\n",
      "  Наука и техника       0.87      0.88      0.87     11851\n",
      "      Путешествия       0.86      0.76      0.81      1000\n",
      "           Россия       0.84      0.86      0.85     36942\n",
      "Силовые структуры       0.79      0.58      0.67      3400\n",
      "            Спорт       0.97      0.98      0.97     13854\n",
      "          Финансы       0.89      0.90      0.89     18136\n",
      "         Ценности       0.94      0.90      0.92       955\n",
      "\n",
      "      avg / total       0.86      0.86      0.86    158665\n",
      "\n"
     ]
    }
   ],
   "source": [
    "print(metrics.classification_report(y_pred=svm_prediction_unbalanced, y_true=valid_y_labels, target_names=encoder.classes_))"
   ]
  },
  {
   "cell_type": "code",
   "execution_count": 292,
   "metadata": {
    "collapsed": true
   },
   "outputs": [],
   "source": [
    "cm = metrics.confusion_matrix(y_pred=svm_prediction_unbalanced, y_true=valid_y_labels)"
   ]
  },
  {
   "cell_type": "code",
   "execution_count": 293,
   "metadata": {},
   "outputs": [
    {
     "data": {
      "text/plain": [
       "<matplotlib.axes._subplots.AxesSubplot at 0x20679a76320>"
      ]
     },
     "execution_count": 293,
     "metadata": {},
     "output_type": "execute_result"
    },
    {
     "data": {
      "image/png": "[encoded data removed]",
      "text/plain": [
       "<matplotlib.figure.Figure at 0x20679a76d68>"
      ]
     },
     "metadata": {},
     "output_type": "display_data"
    }
   ],
   "source": [
    "plt.figure(figsize = (15,10))\n",
    "sns.heatmap(cm, annot=True, fmt='.5g', xticklabels=encoder.classes_, yticklabels=encoder.classes_)"
   ]
  },
  {
   "cell_type": "markdown",
   "metadata": {},
   "source": [
    "Получившаяся SVM модель гораздо лучше подошла для работы с данной несбалансированной коллекцией, в сравнении с байесовским классификатором. Каждый класс имеет большую и точность, и полноту.\n",
    "\n",
    "Ниже представлены таблицы сравнения оценок для двух методов: по классам и усредненные."
   ]
  },
  {
   "cell_type": "code",
   "execution_count": 294,
   "metadata": {
    "scrolled": true
   },
   "outputs": [
    {
     "data": {
      "text/html": [
       "<div>\n",
       "<style>\n",
       "    .dataframe thead tr:only-child th {\n",
       "        text-align: right;\n",
       "    }\n",
       "\n",
       "    .dataframe thead th {\n",
       "        text-align: left;\n",
       "    }\n",
       "\n",
       "    .dataframe tbody tr th {\n",
       "        vertical-align: top;\n",
       "    }\n",
       "</style>\n",
       "<table border=\"1\" class=\"dataframe\">\n",
       "  <thead>\n",
       "    <tr style=\"text-align: right;\">\n",
       "      <th></th>\n",
       "      <th></th>\n",
       "      <th></th>\n",
       "      <th>precision</th>\n",
       "      <th>recall</th>\n",
       "      <th>f1</th>\n",
       "    </tr>\n",
       "    <tr>\n",
       "      <th>topic</th>\n",
       "      <th>support</th>\n",
       "      <th>method</th>\n",
       "      <th></th>\n",
       "      <th></th>\n",
       "      <th></th>\n",
       "    </tr>\n",
       "  </thead>\n",
       "  <tbody>\n",
       "    <tr>\n",
       "      <th rowspan=\"2\" valign=\"top\">Бизнес</th>\n",
       "      <th rowspan=\"2\" valign=\"top\">1465</th>\n",
       "      <th>NB</th>\n",
       "      <td>0.62</td>\n",
       "      <td>0.28</td>\n",
       "      <td>0.39</td>\n",
       "    </tr>\n",
       "    <tr>\n",
       "      <th>SVM</th>\n",
       "      <td>0.75</td>\n",
       "      <td>0.53</td>\n",
       "      <td>0.62</td>\n",
       "    </tr>\n",
       "    <tr>\n",
       "      <th rowspan=\"2\" valign=\"top\">Бывший СССР</th>\n",
       "      <th rowspan=\"2\" valign=\"top\">11917</th>\n",
       "      <th>NB</th>\n",
       "      <td>0.78</td>\n",
       "      <td>0.74</td>\n",
       "      <td>0.76</td>\n",
       "    </tr>\n",
       "    <tr>\n",
       "      <th>SVM</th>\n",
       "      <td>0.86</td>\n",
       "      <td>0.89</td>\n",
       "      <td>0.87</td>\n",
       "    </tr>\n",
       "    <tr>\n",
       "      <th rowspan=\"2\" valign=\"top\">Из жизни</th>\n",
       "      <th rowspan=\"2\" valign=\"top\">5909</th>\n",
       "      <th>NB</th>\n",
       "      <td>0.64</td>\n",
       "      <td>0.50</td>\n",
       "      <td>0.56</td>\n",
       "    </tr>\n",
       "    <tr>\n",
       "      <th>SVM</th>\n",
       "      <td>0.73</td>\n",
       "      <td>0.62</td>\n",
       "      <td>0.67</td>\n",
       "    </tr>\n",
       "    <tr>\n",
       "      <th rowspan=\"2\" valign=\"top\">Интернет и СМИ</th>\n",
       "      <th rowspan=\"2\" valign=\"top\">9773</th>\n",
       "      <th>NB</th>\n",
       "      <td>0.77</td>\n",
       "      <td>0.65</td>\n",
       "      <td>0.70</td>\n",
       "    </tr>\n",
       "    <tr>\n",
       "      <th>SVM</th>\n",
       "      <td>0.82</td>\n",
       "      <td>0.77</td>\n",
       "      <td>0.79</td>\n",
       "    </tr>\n",
       "    <tr>\n",
       "      <th rowspan=\"2\" valign=\"top\">Культура</th>\n",
       "      <th rowspan=\"2\" valign=\"top\">12244</th>\n",
       "      <th>NB</th>\n",
       "      <td>0.85</td>\n",
       "      <td>0.89</td>\n",
       "      <td>0.87</td>\n",
       "    </tr>\n",
       "    <tr>\n",
       "      <th>SVM</th>\n",
       "      <td>0.90</td>\n",
       "      <td>0.92</td>\n",
       "      <td>0.91</td>\n",
       "    </tr>\n",
       "    <tr>\n",
       "      <th rowspan=\"2\" valign=\"top\">Мир</th>\n",
       "      <th rowspan=\"2\" valign=\"top\">31219</th>\n",
       "      <th>NB</th>\n",
       "      <td>0.78</td>\n",
       "      <td>0.82</td>\n",
       "      <td>0.80</td>\n",
       "    </tr>\n",
       "    <tr>\n",
       "      <th>SVM</th>\n",
       "      <td>0.83</td>\n",
       "      <td>0.86</td>\n",
       "      <td>0.85</td>\n",
       "    </tr>\n",
       "    <tr>\n",
       "      <th rowspan=\"2\" valign=\"top\">Наука и техника</th>\n",
       "      <th rowspan=\"2\" valign=\"top\">11851</th>\n",
       "      <th>NB</th>\n",
       "      <td>0.82</td>\n",
       "      <td>0.81</td>\n",
       "      <td>0.82</td>\n",
       "    </tr>\n",
       "    <tr>\n",
       "      <th>SVM</th>\n",
       "      <td>0.87</td>\n",
       "      <td>0.88</td>\n",
       "      <td>0.87</td>\n",
       "    </tr>\n",
       "    <tr>\n",
       "      <th rowspan=\"2\" valign=\"top\">Путешествия</th>\n",
       "      <th rowspan=\"2\" valign=\"top\">1000</th>\n",
       "      <th>NB</th>\n",
       "      <td>0.69</td>\n",
       "      <td>0.61</td>\n",
       "      <td>0.65</td>\n",
       "    </tr>\n",
       "    <tr>\n",
       "      <th>SVM</th>\n",
       "      <td>0.86</td>\n",
       "      <td>0.76</td>\n",
       "      <td>0.81</td>\n",
       "    </tr>\n",
       "    <tr>\n",
       "      <th rowspan=\"2\" valign=\"top\">Россия</th>\n",
       "      <th rowspan=\"2\" valign=\"top\">36942</th>\n",
       "      <th>NB</th>\n",
       "      <td>0.75</td>\n",
       "      <td>0.81</td>\n",
       "      <td>0.78</td>\n",
       "    </tr>\n",
       "    <tr>\n",
       "      <th>SVM</th>\n",
       "      <td>0.84</td>\n",
       "      <td>0.86</td>\n",
       "      <td>0.85</td>\n",
       "    </tr>\n",
       "    <tr>\n",
       "      <th rowspan=\"2\" valign=\"top\">Силовые структуры</th>\n",
       "      <th rowspan=\"2\" valign=\"top\">3400</th>\n",
       "      <th>NB</th>\n",
       "      <td>0.53</td>\n",
       "      <td>0.31</td>\n",
       "      <td>0.39</td>\n",
       "    </tr>\n",
       "    <tr>\n",
       "      <th>SVM</th>\n",
       "      <td>0.79</td>\n",
       "      <td>0.58</td>\n",
       "      <td>0.67</td>\n",
       "    </tr>\n",
       "    <tr>\n",
       "      <th rowspan=\"2\" valign=\"top\">Спорт</th>\n",
       "      <th rowspan=\"2\" valign=\"top\">13854</th>\n",
       "      <th>NB</th>\n",
       "      <td>0.97</td>\n",
       "      <td>0.95</td>\n",
       "      <td>0.96</td>\n",
       "    </tr>\n",
       "    <tr>\n",
       "      <th>SVM</th>\n",
       "      <td>0.97</td>\n",
       "      <td>0.98</td>\n",
       "      <td>0.97</td>\n",
       "    </tr>\n",
       "    <tr>\n",
       "      <th rowspan=\"2\" valign=\"top\">Финансы</th>\n",
       "      <th rowspan=\"2\" valign=\"top\">18136</th>\n",
       "      <th>NB</th>\n",
       "      <td>0.83</td>\n",
       "      <td>0.87</td>\n",
       "      <td>0.85</td>\n",
       "    </tr>\n",
       "    <tr>\n",
       "      <th>SVM</th>\n",
       "      <td>0.89</td>\n",
       "      <td>0.90</td>\n",
       "      <td>0.89</td>\n",
       "    </tr>\n",
       "    <tr>\n",
       "      <th rowspan=\"2\" valign=\"top\">Ценности</th>\n",
       "      <th rowspan=\"2\" valign=\"top\">955</th>\n",
       "      <th>NB</th>\n",
       "      <td>0.85</td>\n",
       "      <td>0.87</td>\n",
       "      <td>0.86</td>\n",
       "    </tr>\n",
       "    <tr>\n",
       "      <th>SVM</th>\n",
       "      <td>0.94</td>\n",
       "      <td>0.90</td>\n",
       "      <td>0.92</td>\n",
       "    </tr>\n",
       "  </tbody>\n",
       "</table>\n",
       "</div>"
      ],
      "text/plain": [
       "                                  precision  recall    f1\n",
       "topic             support method                         \n",
       "Бизнес            1465    NB           0.62    0.28  0.39\n",
       "                          SVM          0.75    0.53  0.62\n",
       "Бывший СССР       11917   NB           0.78    0.74  0.76\n",
       "                          SVM          0.86    0.89  0.87\n",
       "Из жизни          5909    NB           0.64    0.50  0.56\n",
       "                          SVM          0.73    0.62  0.67\n",
       "Интернет и СМИ    9773    NB           0.77    0.65  0.70\n",
       "                          SVM          0.82    0.77  0.79\n",
       "Культура          12244   NB           0.85    0.89  0.87\n",
       "                          SVM          0.90    0.92  0.91\n",
       "Мир               31219   NB           0.78    0.82  0.80\n",
       "                          SVM          0.83    0.86  0.85\n",
       "Наука и техника   11851   NB           0.82    0.81  0.82\n",
       "                          SVM          0.87    0.88  0.87\n",
       "Путешествия       1000    NB           0.69    0.61  0.65\n",
       "                          SVM          0.86    0.76  0.81\n",
       "Россия            36942   NB           0.75    0.81  0.78\n",
       "                          SVM          0.84    0.86  0.85\n",
       "Силовые структуры 3400    NB           0.53    0.31  0.39\n",
       "                          SVM          0.79    0.58  0.67\n",
       "Спорт             13854   NB           0.97    0.95  0.96\n",
       "                          SVM          0.97    0.98  0.97\n",
       "Финансы           18136   NB           0.83    0.87  0.85\n",
       "                          SVM          0.89    0.90  0.89\n",
       "Ценности          955     NB           0.85    0.87  0.86\n",
       "                          SVM          0.94    0.90  0.92"
      ]
     },
     "execution_count": 294,
     "metadata": {},
     "output_type": "execute_result"
    }
   ],
   "source": [
    "metrics1 = metrics.precision_recall_fscore_support(y_pred=svm_prediction_unbalanced, y_true=valid_y_labels, average=None)\n",
    "metrics2 = metrics.precision_recall_fscore_support(y_pred=nb_prediction_unbalanced, y_true=valid_y_labels, average=None)\n",
    "\n",
    "resdf = pd.DataFrame(np.array(metrics1).transpose(), columns=['precision','recall','f1','support'])\n",
    "resdf['method'] = 'SVM'\n",
    "resdf2 = pd.DataFrame(np.array(metrics2).transpose(), columns=['precision','recall','f1','support'])\n",
    "resdf2['method'] = 'NB'\n",
    "\n",
    "ddf = pd.concat([resdf, resdf2], axis=0)\n",
    "ddf.index = ddf.index.map(dict(zip(resdf.index, encoder.classes_)).get)\n",
    "ddf['support'] =ddf['support'].astype(int)\n",
    "ddf = ddf.reset_index() \\\n",
    "    .rename(columns ={'index': 'topic'}) \\\n",
    "    .set_index(['topic', 'support', 'method']) \\\n",
    "    .sort_index() \\\n",
    "    .round(2)\n",
    "    \n",
    "ddf"
   ]
  },
  {
   "cell_type": "code",
   "execution_count": 308,
   "metadata": {},
   "outputs": [
    {
     "data": {
      "text/html": [
       "<div>\n",
       "<style>\n",
       "    .dataframe thead tr:only-child th {\n",
       "        text-align: right;\n",
       "    }\n",
       "\n",
       "    .dataframe thead th {\n",
       "        text-align: left;\n",
       "    }\n",
       "\n",
       "    .dataframe tbody tr th {\n",
       "        vertical-align: top;\n",
       "    }\n",
       "</style>\n",
       "<table border=\"1\" class=\"dataframe\">\n",
       "  <thead>\n",
       "    <tr style=\"text-align: right;\">\n",
       "      <th></th>\n",
       "      <th>prec-micro</th>\n",
       "      <th>prec-macro</th>\n",
       "      <th>rec-micro</th>\n",
       "      <th>rec-macro</th>\n",
       "      <th>F1-micro</th>\n",
       "      <th>F1-macro</th>\n",
       "    </tr>\n",
       "    <tr>\n",
       "      <th>method</th>\n",
       "      <th></th>\n",
       "      <th></th>\n",
       "      <th></th>\n",
       "      <th></th>\n",
       "      <th></th>\n",
       "      <th></th>\n",
       "    </tr>\n",
       "  </thead>\n",
       "  <tbody>\n",
       "    <tr>\n",
       "      <th>NB</th>\n",
       "      <td>0.80</td>\n",
       "      <td>0.76</td>\n",
       "      <td>0.80</td>\n",
       "      <td>0.7</td>\n",
       "      <td>0.80</td>\n",
       "      <td>0.72</td>\n",
       "    </tr>\n",
       "    <tr>\n",
       "      <th>SVM</th>\n",
       "      <td>0.86</td>\n",
       "      <td>0.85</td>\n",
       "      <td>0.86</td>\n",
       "      <td>0.8</td>\n",
       "      <td>0.86</td>\n",
       "      <td>0.82</td>\n",
       "    </tr>\n",
       "  </tbody>\n",
       "</table>\n",
       "</div>"
      ],
      "text/plain": [
       "        prec-micro  prec-macro  rec-micro  rec-macro  F1-micro  F1-macro\n",
       "method                                                                  \n",
       "NB            0.80        0.76       0.80        0.7      0.80      0.72\n",
       "SVM           0.86        0.85       0.86        0.8      0.86      0.82"
      ]
     },
     "execution_count": 308,
     "metadata": {},
     "output_type": "execute_result"
    }
   ],
   "source": [
    "metrics3 = np.array([\n",
    "    [\n",
    "        'NB',\n",
    "        metrics.precision_score(y_pred=nb_prediction_unbalanced, y_true=valid_y_labels, average='micro'),\n",
    "        metrics.precision_score(y_pred=nb_prediction_unbalanced, y_true=valid_y_labels, average='macro'),\n",
    "        metrics.recall_score(y_pred=nb_prediction_unbalanced, y_true=valid_y_labels, average='micro'),\n",
    "        metrics.recall_score(y_pred=nb_prediction_unbalanced, y_true=valid_y_labels, average='macro'),\n",
    "        metrics.f1_score(y_pred=nb_prediction_unbalanced, y_true=valid_y_labels, average='micro'),\n",
    "        metrics.f1_score(y_pred=nb_prediction_unbalanced, y_true=valid_y_labels, average='macro'),\n",
    "    ],\n",
    "    [\n",
    "        'SVM',\n",
    "        metrics.precision_score(y_pred=svm_prediction_unbalanced, y_true=valid_y_labels, average='micro'),\n",
    "        metrics.precision_score(y_pred=svm_prediction_unbalanced, y_true=valid_y_labels, average='macro'),\n",
    "        metrics.recall_score(y_pred=svm_prediction_unbalanced, y_true=valid_y_labels, average='micro'),\n",
    "        metrics.recall_score(y_pred=svm_prediction_unbalanced, y_true=valid_y_labels, average='macro'),\n",
    "        metrics.f1_score(y_pred=svm_prediction_unbalanced, y_true=valid_y_labels, average='micro'),\n",
    "        metrics.f1_score(y_pred=svm_prediction_unbalanced, y_true=valid_y_labels, average='macro'),\n",
    "    ]\n",
    "])\n",
    "columns = ['method', 'prec-micro', 'prec-macro', 'rec-micro', 'rec-macro', 'F1-micro', 'F1-macro']\n",
    "pd.DataFrame(metrics3, columns=columns).set_index('method').astype(float).round(2)"
   ]
  },
  {
   "cell_type": "markdown",
   "metadata": {},
   "source": [
    "Вывод: опираясь на выбранные метрики качества, из данных моделей предпочтение отдаем модели SVM."
   ]
  },
  {
   "cell_type": "markdown",
   "metadata": {},
   "source": [
    "# UPD\n",
    "\n"
   ]
  },
  {
   "cell_type": "markdown",
   "metadata": {},
   "source": [
    "Утверждалось, что SVM работает лучше NB поскольку классы в задаче несбалансированные. Если привести принудительную балансировку классов, сохранится ли этот вывод?\n",
    "\n",
    "Ожидается, что да. SVM часто в задаче классификации текстов показывает результаты лучше, чем NB. Исключения обычно - небольшие коллекции коротких текстов.\n",
    "\n",
    "Но можно смоделировать балансировку и проверить."
   ]
  },
  {
   "cell_type": "markdown",
   "metadata": {},
   "source": [
    "\n",
    "\n",
    "Данная функция определяет стратегию разбиения для кросс-валидации.\n",
    "* class_size : желаемое число объектов каждого класса\n",
    "* class_labels : список уникальных меток классов\n",
    "* n_splits : число фолдов для разбиения\n",
    "\n",
    "В начале разбиваем X, y на обуч.\\тест. подвыборки, далее ресемплируем в обучащей выборке каждый класс, до желаемого количества объектов."
   ]
  },
  {
   "cell_type": "code",
   "execution_count": 268,
   "metadata": {
    "collapsed": true
   },
   "outputs": [],
   "source": [
    "class UpsampleStratifiedKFold:\n",
    "    def __init__(self, class_size, class_labels, n_splits=3):\n",
    "        self.n_splits = n_splits\n",
    "        self.class_size = class_size\n",
    "        self.class_labels = class_labels\n",
    "\n",
    "    def split(self, X, y):\n",
    "        for train, test in model_selection.StratifiedKFold(n_splits=self.n_splits).split(X,y):\n",
    "            idx = np.array([], dtype=int)\n",
    "            for label in self.class_labels:\n",
    "                train_labels = np.where(y[train]==label)[0]\n",
    "                need_replace = True if train_labels.size < self.class_size else False\n",
    "                sample = np.random.choice(train_labels, self.class_size, replace=need_replace)\n",
    "                idx = np.append(idx, sample)\n",
    "            resampled_train = np.random.permutation(train[idx])\n",
    "            yield resampled_train, test\n",
    "\n",
    "    def get_n_splits(self, X, y):\n",
    "        return self.n_splits"
   ]
  },
  {
   "cell_type": "markdown",
   "metadata": {},
   "source": [
    "Как и ранее, посмотрим на влияние параметров на оценки качества. Количество признаков оставим тем же для обоих методов."
   ]
  },
  {
   "cell_type": "code",
   "execution_count": 9,
   "metadata": {
    "collapsed": true
   },
   "outputs": [],
   "source": [
    "pipeline_nb = Pipeline([\n",
    "    ('vect', CountVectorizer()),\n",
    "    ('tfidf', TfidfTransformer()),\n",
    "    ('dim_red', SelectKBest(chi2, k=10000)),\n",
    "    ('clf', naive_bayes.MultinomialNB(alpha=1e-2))\n",
    "])"
   ]
  },
  {
   "cell_type": "code",
   "execution_count": 15,
   "metadata": {
    "scrolled": true
   },
   "outputs": [
    {
     "data": {
      "text/plain": [
       "array([  4561,  35805,  17358,  28955,  36020,  93529,  36277,   3006,\n",
       "       110921,  10559,  41541,  54600,   2861], dtype=int64)"
      ]
     },
     "execution_count": 15,
     "metadata": {},
     "output_type": "execute_result"
    }
   ],
   "source": [
    "unique_classes, counts = np.unique(train_y_labels, return_counts=True)\n",
    "counts"
   ]
  },
  {
   "cell_type": "markdown",
   "metadata": {},
   "source": [
    "Ниже два черновых запуска кросс-валидации для оценки времени ее работы в зависимости от выбранного размера класса (13 классов вызывали опасения, что выборка очень быстро растет)."
   ]
  },
  {
   "cell_type": "code",
   "execution_count": 62,
   "metadata": {},
   "outputs": [
    {
     "name": "stderr",
     "output_type": "stream",
     "text": [
      "[Parallel(n_jobs=2)]: Done   3 out of   3 | elapsed: 17.6min remaining:    0.0s\n",
      "[Parallel(n_jobs=2)]: Done   3 out of   3 | elapsed: 17.6min finished\n"
     ]
    },
    {
     "name": "stdout",
     "output_type": "stream",
     "text": [
      "Wall time: 17min 38s\n"
     ]
    }
   ],
   "source": [
    "%%time\n",
    "stratifier = UpsampleStratifiedKFold(50000, unique_classes, 3)\n",
    "scoring = ['f1_macro', 'recall_macro', 'precision_macro']\n",
    "cvres = model_selection.cross_validate(pipeline_nb, train_x, train_y_labels, cv=stratifier,\n",
    "                                       scoring=scoring, n_jobs=2, verbose=10, return_train_score=True)"
   ]
  },
  {
   "cell_type": "code",
   "execution_count": 63,
   "metadata": {},
   "outputs": [
    {
     "data": {
      "text/plain": [
       "{'fit_time': array([ 148.4681983 ,  138.48241329,   99.52821541]),\n",
       " 'score_time': array([ 82.38274288,  81.40164518,  64.97961473]),\n",
       " 'test_f1_macro': array([ 0.6958857 ,  0.69561662,  0.69739523]),\n",
       " 'test_precision_macro': array([ 0.66609024,  0.66597424,  0.66738168]),\n",
       " 'test_recall_macro': array([ 0.77895874,  0.7769163 ,  0.7776849 ]),\n",
       " 'train_f1_macro': array([ 0.80548852,  0.80321791,  0.80449246]),\n",
       " 'train_precision_macro': array([ 0.80857294,  0.8066123 ,  0.80785543]),\n",
       " 'train_recall_macro': array([ 0.80466154,  0.80231692,  0.80343692])}"
      ]
     },
     "execution_count": 63,
     "metadata": {},
     "output_type": "execute_result"
    }
   ],
   "source": [
    "cvres"
   ]
  },
  {
   "cell_type": "code",
   "execution_count": 57,
   "metadata": {},
   "outputs": [
    {
     "name": "stderr",
     "output_type": "stream",
     "text": [
      "[Parallel(n_jobs=2)]: Done   3 out of   3 | elapsed: 31.2min remaining:    0.0s\n",
      "[Parallel(n_jobs=2)]: Done   3 out of   3 | elapsed: 31.2min finished\n"
     ]
    },
    {
     "name": "stdout",
     "output_type": "stream",
     "text": [
      "Wall time: 31min 13s\n"
     ]
    }
   ],
   "source": [
    "%%time\n",
    "stratifier = UpsampleStratifiedKFold(90000, unique_classes, 3)\n",
    "scoring = ['f1_macro', 'recall_macro', 'precision_macro']\n",
    "cvres2 = model_selection.cross_validate(pipeline_nb, train_x, train_y_labels, cv=stratifier,\n",
    "                                        scoring=scoring, n_jobs=2, verbose=10, return_train_score=True)"
   ]
  },
  {
   "cell_type": "code",
   "execution_count": 58,
   "metadata": {},
   "outputs": [
    {
     "data": {
      "text/plain": [
       "{'fit_time': array([ 273.69279265,  259.98858738,  187.19719052]),\n",
       " 'score_time': array([ 84.35333681,  84.26976323,  67.08048606]),\n",
       " 'test_f1_macro': array([ 0.69544756,  0.69527993,  0.69805879]),\n",
       " 'test_precision_macro': array([ 0.66612009,  0.66571898,  0.66746882]),\n",
       " 'test_recall_macro': array([ 0.7774021 ,  0.77667772,  0.77818641]),\n",
       " 'train_f1_macro': array([ 0.80472031,  0.80305691,  0.80356471]),\n",
       " 'train_precision_macro': array([ 0.80794618,  0.80629896,  0.8066604 ]),\n",
       " 'train_recall_macro': array([ 0.8038735 ,  0.80215641,  0.80261111])}"
      ]
     },
     "execution_count": 58,
     "metadata": {},
     "output_type": "execute_result"
    }
   ],
   "source": [
    "cvres2"
   ]
  },
  {
   "cell_type": "markdown",
   "metadata": {},
   "source": [
    "Оставим размер класса 50 000. Подберем параметр сглаживания для наивного байеса."
   ]
  },
  {
   "cell_type": "code",
   "execution_count": 67,
   "metadata": {
    "collapsed": true
   },
   "outputs": [],
   "source": [
    "alpha = [1e-2, 1e-1, 1]\n",
    "scores = ['f1_macro', 'f1_micro']\n",
    "param_grid = [\n",
    "    {\n",
    "        'clf__alpha': alpha,\n",
    "    }\n",
    "]\n",
    "stratifier = UpsampleStratifiedKFold(50000, unique_classes, 3)"
   ]
  },
  {
   "cell_type": "code",
   "execution_count": 68,
   "metadata": {
    "collapsed": true
   },
   "outputs": [],
   "source": [
    "nb_grid = model_selection.GridSearchCV(estimator=pipeline_nb, cv = stratifier, param_grid=param_grid,\n",
    "                                       n_jobs=2, scoring=scores, refit='f1_macro', verbose=10, return_train_score=True)"
   ]
  },
  {
   "cell_type": "code",
   "execution_count": 122,
   "metadata": {},
   "outputs": [
    {
     "name": "stdout",
     "output_type": "stream",
     "text": [
      "Fitting 3 folds for each of 3 candidates, totalling 9 fits\n"
     ]
    },
    {
     "name": "stderr",
     "output_type": "stream",
     "text": [
      "[Parallel(n_jobs=2)]: Done   1 tasks      | elapsed:  7.8min\n",
      "[Parallel(n_jobs=2)]: Done   4 tasks      | elapsed: 15.7min\n",
      "[Parallel(n_jobs=2)]: Done   7 out of   9 | elapsed: 29.5min remaining:  8.4min\n",
      "[Parallel(n_jobs=2)]: Done   9 out of   9 | elapsed: 35.0min remaining:    0.0s\n",
      "[Parallel(n_jobs=2)]: Done   9 out of   9 | elapsed: 35.0min finished\n"
     ]
    },
    {
     "name": "stdout",
     "output_type": "stream",
     "text": [
      "Wall time: 36min 35s\n"
     ]
    }
   ],
   "source": [
    "%%time\n",
    "nb_grid_res = nb_grid.fit(train_x, train_y_labels)"
   ]
  },
  {
   "cell_type": "code",
   "execution_count": 142,
   "metadata": {
    "scrolled": false
   },
   "outputs": [
    {
     "data": {
      "text/plain": [
       "{'mean_fit_time': array([ 146.2735277 ,  146.54253324,  129.85334953]),\n",
       " 'mean_score_time': array([ 54.61569357,  54.92283487,  49.32605664]),\n",
       " 'mean_test_f1_macro': array([ 0.69608674,  0.69370378,  0.69017465]),\n",
       " 'mean_test_f1_micro': array([ 0.76316879,  0.761507  ,  0.75858469]),\n",
       " 'mean_train_f1_macro': array([ 0.80380555,  0.8009464 ,  0.79634013]),\n",
       " 'mean_train_f1_micro': array([ 0.80291744,  0.80008205,  0.79550821]),\n",
       " 'param_clf__alpha': masked_array(data = [0.01 0.1 1],\n",
       "              mask = [False False False],\n",
       "        fill_value = ?),\n",
       " 'params': [{'clf__alpha': 0.01}, {'clf__alpha': 0.1}, {'clf__alpha': 1}],\n",
       " 'rank_test_f1_macro': array([1, 2, 3]),\n",
       " 'rank_test_f1_micro': array([1, 2, 3]),\n",
       " 'split0_test_f1_macro': array([ 0.69527083,  0.69253662,  0.68892212]),\n",
       " 'split0_test_f1_micro': array([ 0.76187385,  0.7599579 ,  0.75712179]),\n",
       " 'split0_train_f1_macro': array([ 0.80466182,  0.80182597,  0.79738199]),\n",
       " 'split0_train_f1_micro': array([ 0.80391385,  0.80109846,  0.79669231]),\n",
       " 'split1_test_f1_macro': array([ 0.69547557,  0.69320894,  0.68913014]),\n",
       " 'split1_test_f1_micro': array([ 0.76277062,  0.76124539,  0.75806889]),\n",
       " 'split1_train_f1_macro': array([ 0.80368399,  0.80076668,  0.79611378]),\n",
       " 'split1_train_f1_micro': array([ 0.80275077,  0.79985385,  0.79524154]),\n",
       " 'split2_test_f1_macro': array([ 0.69751386,  0.69536587,  0.69247177]),\n",
       " 'split2_test_f1_micro': array([ 0.76486197,  0.76331779,  0.76056347]),\n",
       " 'split2_train_f1_macro': array([ 0.80307084,  0.80024655,  0.79552462]),\n",
       " 'split2_train_f1_micro': array([ 0.80208769,  0.79929385,  0.79459077]),\n",
       " 'std_fit_time': array([  4.10353371,  15.58351585,  22.83955219]),\n",
       " 'std_score_time': array([ 1.90807323,  1.5136683 ,  3.75085867]),\n",
       " 'std_test_f1_macro': array([ 0.00101256,  0.00120687,  0.0016265 ]),\n",
       " 'std_test_f1_micro': array([ 0.00125196,  0.00138408,  0.00145162]),\n",
       " 'std_train_f1_macro': array([ 0.00065518,  0.0006572 ,  0.00077497]),\n",
       " 'std_train_f1_micro': array([ 0.00075478,  0.0007542 ,  0.00087843])}"
      ]
     },
     "execution_count": 142,
     "metadata": {},
     "output_type": "execute_result"
    }
   ],
   "source": [
    "nb_grid.cv_results_"
   ]
  },
  {
   "cell_type": "markdown",
   "metadata": {},
   "source": [
    "Разницы практически нет, оставим alpha = 0.01 как и для несбалансированного случая, и посмотрим на оценку на тестовой подвыборке. Для этого нужно вначале ресемплировать обучающую подвыборку, по той же стратегии, что использовалась выше."
   ]
  },
  {
   "cell_type": "code",
   "execution_count": 85,
   "metadata": {},
   "outputs": [
    {
     "data": {
      "text/html": [
       "<div>\n",
       "<style>\n",
       "    .dataframe thead tr:only-child th {\n",
       "        text-align: right;\n",
       "    }\n",
       "\n",
       "    .dataframe thead th {\n",
       "        text-align: left;\n",
       "    }\n",
       "\n",
       "    .dataframe tbody tr th {\n",
       "        vertical-align: top;\n",
       "    }\n",
       "</style>\n",
       "<table border=\"1\" class=\"dataframe\">\n",
       "  <thead>\n",
       "    <tr style=\"text-align: right;\">\n",
       "      <th></th>\n",
       "      <th>tags</th>\n",
       "      <th>text_processed</th>\n",
       "      <th>title_processed</th>\n",
       "      <th>topic</th>\n",
       "    </tr>\n",
       "  </thead>\n",
       "  <tbody>\n",
       "    <tr>\n",
       "      <th>8411</th>\n",
       "      <td>Все</td>\n",
       "      <td>первомайск суд мурманск оправда капита траулер...</td>\n",
       "      <td>суд оправда капита траулер электрон</td>\n",
       "      <td>Россия</td>\n",
       "    </tr>\n",
       "    <tr>\n",
       "      <th>249213</th>\n",
       "      <td>Следствие и суд</td>\n",
       "      <td>административн комисс фсин направ суд материал...</td>\n",
       "      <td>фсин направ суд материал васильев</td>\n",
       "      <td>Силовые структуры</td>\n",
       "    </tr>\n",
       "    <tr>\n",
       "      <th>479898</th>\n",
       "      <td>Все</td>\n",
       "      <td>руководител управлен госохра украин валер геле...</td>\n",
       "      <td>руководител управлен госохра украин открест ин...</td>\n",
       "      <td>Бывший СССР</td>\n",
       "    </tr>\n",
       "    <tr>\n",
       "      <th>610394</th>\n",
       "      <td>Наука</td>\n",
       "      <td>физик австр канад австрал наблюда пар одиночн ...</td>\n",
       "      <td>физик запута фотон наибольш квантов числ</td>\n",
       "      <td>Наука и техника</td>\n",
       "    </tr>\n",
       "    <tr>\n",
       "      <th>590781</th>\n",
       "      <td>Футбол</td>\n",
       "      <td>напада барселон лионел месс приня участ японск...</td>\n",
       "      <td>месс обыгра гигантск вратаря-робот</td>\n",
       "      <td>Спорт</td>\n",
       "    </tr>\n",
       "  </tbody>\n",
       "</table>\n",
       "</div>"
      ],
      "text/plain": [
       "                   tags                                     text_processed  \\\n",
       "8411                Все  первомайск суд мурманск оправда капита траулер...   \n",
       "249213  Следствие и суд  административн комисс фсин направ суд материал...   \n",
       "479898              Все  руководител управлен госохра украин валер геле...   \n",
       "610394            Наука  физик австр канад австрал наблюда пар одиночн ...   \n",
       "590781           Футбол  напада барселон лионел месс приня участ японск...   \n",
       "\n",
       "                                          title_processed              topic  \n",
       "8411                  суд оправда капита траулер электрон             Россия  \n",
       "249213                  фсин направ суд материал васильев  Силовые структуры  \n",
       "479898  руководител управлен госохра украин открест ин...        Бывший СССР  \n",
       "610394           физик запута фотон наибольш квантов числ    Наука и техника  \n",
       "590781                 месс обыгра гигантск вратаря-робот              Спорт  "
      ]
     },
     "execution_count": 85,
     "metadata": {},
     "output_type": "execute_result"
    }
   ],
   "source": [
    "train_df, valid_df = model_selection.train_test_split(df, random_state=17)\n",
    "train_df.head()"
   ]
  },
  {
   "cell_type": "code",
   "execution_count": 89,
   "metadata": {
    "scrolled": true
   },
   "outputs": [
    {
     "name": "stderr",
     "output_type": "stream",
     "text": [
      "C:\\anaconda\\lib\\site-packages\\ipykernel_launcher.py:1: SettingWithCopyWarning: \n",
      "A value is trying to be set on a copy of a slice from a DataFrame\n",
      "\n",
      "See the caveats in the documentation: http://pandas.pydata.org/pandas-docs/stable/indexing.html#indexing-view-versus-copy\n",
      "  \"\"\"Entry point for launching an IPython kernel.\n"
     ]
    }
   ],
   "source": [
    "train_df.drop(['tags', 'title_processed'], axis=1, inplace=True)"
   ]
  },
  {
   "cell_type": "code",
   "execution_count": 105,
   "metadata": {
    "collapsed": true
   },
   "outputs": [],
   "source": [
    "def group_resample(group, size):\n",
    "    need_replace = True if group.shape[0] < size else False\n",
    "    return resample(group, replace=need_replace, n_samples=size, random_state=123)"
   ]
  },
  {
   "cell_type": "code",
   "execution_count": 137,
   "metadata": {
    "collapsed": true
   },
   "outputs": [],
   "source": [
    "train_balanced = train_df.groupby('topic').apply(lambda x: group_resample(x, 50000)) \\\n",
    "                            .reset_index(drop=True).sample(frac=1, random_state=123)"
   ]
  },
  {
   "cell_type": "code",
   "execution_count": 138,
   "metadata": {},
   "outputs": [
    {
     "data": {
      "text/html": [
       "<div>\n",
       "<style>\n",
       "    .dataframe thead tr:only-child th {\n",
       "        text-align: right;\n",
       "    }\n",
       "\n",
       "    .dataframe thead th {\n",
       "        text-align: left;\n",
       "    }\n",
       "\n",
       "    .dataframe tbody tr th {\n",
       "        vertical-align: top;\n",
       "    }\n",
       "</style>\n",
       "<table border=\"1\" class=\"dataframe\">\n",
       "  <thead>\n",
       "    <tr style=\"text-align: right;\">\n",
       "      <th></th>\n",
       "      <th>text_processed</th>\n",
       "      <th>topic</th>\n",
       "    </tr>\n",
       "  </thead>\n",
       "  <tbody>\n",
       "    <tr>\n",
       "      <th>165732</th>\n",
       "      <td>сам известн радиоведущ сша говард стерн увол ф...</td>\n",
       "      <td>Интернет и СМИ</td>\n",
       "    </tr>\n",
       "    <tr>\n",
       "      <th>505897</th>\n",
       "      <td>канадск фигурист патрик чан котор явля одн гла...</td>\n",
       "      <td>Спорт</td>\n",
       "    </tr>\n",
       "    <tr>\n",
       "      <th>130111</th>\n",
       "      <td>херсонск област украин задержа дво местн жител...</td>\n",
       "      <td>Из жизни</td>\n",
       "    </tr>\n",
       "    <tr>\n",
       "      <th>382591</th>\n",
       "      <td>туристическ сервис рамблер.путешеств запуст пр...</td>\n",
       "      <td>Путешествия</td>\n",
       "    </tr>\n",
       "    <tr>\n",
       "      <th>562940</th>\n",
       "      <td>совокупн обь списан проч убытк понесен финансо...</td>\n",
       "      <td>Финансы</td>\n",
       "    </tr>\n",
       "  </tbody>\n",
       "</table>\n",
       "</div>"
      ],
      "text/plain": [
       "                                           text_processed           topic\n",
       "165732  сам известн радиоведущ сша говард стерн увол ф...  Интернет и СМИ\n",
       "505897  канадск фигурист патрик чан котор явля одн гла...           Спорт\n",
       "130111  херсонск област украин задержа дво местн жител...        Из жизни\n",
       "382591  туристическ сервис рамблер.путешеств запуст пр...     Путешествия\n",
       "562940  совокупн обь списан проч убытк понесен финансо...         Финансы"
      ]
     },
     "execution_count": 138,
     "metadata": {},
     "output_type": "execute_result"
    }
   ],
   "source": [
    "train_balanced.head()"
   ]
  },
  {
   "cell_type": "code",
   "execution_count": 139,
   "metadata": {
    "collapsed": true
   },
   "outputs": [],
   "source": [
    "train_x_balanced = train_balanced['text_processed']\n",
    "train_y_balanced = train_balanced['topic']"
   ]
  },
  {
   "cell_type": "code",
   "execution_count": 140,
   "metadata": {
    "collapsed": true
   },
   "outputs": [],
   "source": [
    "train_y_balanced_labels = encoder.transform(train_y_balanced)"
   ]
  },
  {
   "cell_type": "markdown",
   "metadata": {},
   "source": [
    "Обучаем на полученной выборке NB."
   ]
  },
  {
   "cell_type": "code",
   "execution_count": 146,
   "metadata": {
    "collapsed": true
   },
   "outputs": [],
   "source": [
    "nb_balanced = pipeline_nb.fit(train_x_balanced, train_y_balanced_labels)"
   ]
  },
  {
   "cell_type": "code",
   "execution_count": 147,
   "metadata": {
    "collapsed": true
   },
   "outputs": [],
   "source": [
    "nb_prediction = nb_balanced.predict(valid_x)"
   ]
  },
  {
   "cell_type": "code",
   "execution_count": 153,
   "metadata": {},
   "outputs": [
    {
     "data": {
      "text/plain": [
       "(0.6952108070393479, 0.76152900765764342, 0.77308903759768999)"
      ]
     },
     "execution_count": 153,
     "metadata": {},
     "output_type": "execute_result"
    }
   ],
   "source": [
    "metrics.f1_score(valid_y_labels, nb_prediction, average='macro'), \\\n",
    "metrics.f1_score(valid_y_labels, nb_prediction, average='micro'), \\\n",
    "metrics.f1_score(valid_y_labels, nb_prediction, average='weighted'),"
   ]
  },
  {
   "cell_type": "code",
   "execution_count": 152,
   "metadata": {},
   "outputs": [
    {
     "name": "stdout",
     "output_type": "stream",
     "text": [
      "                   precision    recall  f1-score   support\n",
      "\n",
      "           Бизнес       0.24      0.74      0.36      1465\n",
      "      Бывший СССР       0.71      0.83      0.76     11917\n",
      "         Из жизни       0.44      0.76      0.55      5909\n",
      "   Интернет и СМИ       0.69      0.71      0.70      9773\n",
      "         Культура       0.86      0.88      0.87     12244\n",
      "              Мир       0.83      0.72      0.77     31219\n",
      "  Наука и техника       0.84      0.75      0.79     11851\n",
      "      Путешествия       0.31      0.83      0.46      1000\n",
      "           Россия       0.84      0.69      0.76     36942\n",
      "Силовые структуры       0.35      0.62      0.44      3400\n",
      "            Спорт       0.97      0.95      0.96     13854\n",
      "          Финансы       0.86      0.77      0.81     18136\n",
      "         Ценности       0.69      0.92      0.79       955\n",
      "\n",
      "      avg / total       0.80      0.76      0.77    158665\n",
      "\n"
     ]
    }
   ],
   "source": [
    "print(metrics.classification_report(y_pred=nb_prediction, y_true=valid_y_labels, target_names=encoder.classes_))"
   ]
  },
  {
   "cell_type": "code",
   "execution_count": 154,
   "metadata": {},
   "outputs": [
    {
     "data": {
      "text/plain": [
       "<matplotlib.axes._subplots.AxesSubplot at 0x205b75fbb00>"
      ]
     },
     "execution_count": 154,
     "metadata": {},
     "output_type": "execute_result"
    },
    {
     "data": {
      "image/png": "[encoded data removed]",
      "text/plain": [
       "<matplotlib.figure.Figure at 0x205c6b24e48>"
      ]
     },
     "metadata": {},
     "output_type": "display_data"
    }
   ],
   "source": [
    "cm = metrics.confusion_matrix(y_pred=nb_prediction, y_true=valid_y_labels)\n",
    "plt.figure(figsize = (15,10))\n",
    "sns.heatmap(cm, annot=True, fmt='.5g', xticklabels=encoder.classes_, yticklabels=encoder.classes_)"
   ]
  },
  {
   "cell_type": "markdown",
   "metadata": {},
   "source": [
    "Аналогичный порядок действий для SVC."
   ]
  },
  {
   "cell_type": "code",
   "execution_count": 70,
   "metadata": {
    "collapsed": true
   },
   "outputs": [],
   "source": [
    "pipeline_svm = Pipeline([\n",
    "    ('vect', CountVectorizer()),\n",
    "    ('tfidf', TfidfTransformer()),\n",
    "    ('dim_red', SelectKBest(chi2, k=50000)),\n",
    "    ('clf', svm.LinearSVC(C=1))\n",
    "])"
   ]
  },
  {
   "cell_type": "code",
   "execution_count": 71,
   "metadata": {
    "collapsed": true
   },
   "outputs": [],
   "source": [
    "C = [0.01, 0.1, 1, 10]\n",
    "scores = ['f1_micro', 'f1_macro']\n",
    "param_grid = [\n",
    "    {\n",
    "        'clf__C': C,\n",
    "    }\n",
    "]"
   ]
  },
  {
   "cell_type": "code",
   "execution_count": 72,
   "metadata": {
    "collapsed": true
   },
   "outputs": [],
   "source": [
    "svm_grid = model_selection.GridSearchCV(estimator=pipeline_svm, cv = stratifier, param_grid=param_grid,\n",
    "                                        n_jobs=2, scoring=scores, refit='f1_macro', return_train_score=True)"
   ]
  },
  {
   "cell_type": "code",
   "execution_count": 73,
   "metadata": {},
   "outputs": [
    {
     "name": "stdout",
     "output_type": "stream",
     "text": [
      "Wall time: 1h 21min 5s\n"
     ]
    }
   ],
   "source": [
    "%%time\n",
    "svm_grid_res = svm_grid.fit(train_x, train_y_labels)"
   ]
  },
  {
   "cell_type": "code",
   "execution_count": 83,
   "metadata": {},
   "outputs": [
    {
     "data": {
      "text/plain": [
       "{'mean_fit_time': array([ 462.68030167,  280.32467675,  281.83186372,  710.53798103]),\n",
       " 'mean_score_time': array([ 52.28894075,  55.7300547 ,  75.80369703,  51.76951925]),\n",
       " 'mean_test_f1_macro': array([ 0.74313846,  0.79279332,  0.8036271 ,  0.78207276]),\n",
       " 'mean_test_f1_micro': array([ 0.79878906,  0.83012355,  0.83489043,  0.81883347]),\n",
       " 'mean_train_f1_macro': array([ 0.87252042,  0.92783851,  0.96452181,  0.98437043]),\n",
       " 'mean_train_f1_micro': array([ 0.87399282,  0.92872256,  0.96499385,  0.98452513]),\n",
       " 'param_clf__C': masked_array(data = [0.01 0.1 1 10],\n",
       "              mask = [False False False False],\n",
       "        fill_value = ?),\n",
       " 'params': [{'clf__C': 0.01}, {'clf__C': 0.1}, {'clf__C': 1}, {'clf__C': 10}],\n",
       " 'rank_test_f1_macro': array([4, 2, 1, 3]),\n",
       " 'rank_test_f1_micro': array([4, 2, 1, 3]),\n",
       " 'split0_test_f1_macro': array([ 0.74275089,  0.7907507 ,  0.8029669 ,  0.78165723]),\n",
       " 'split0_test_f1_micro': array([ 0.79777901,  0.82798674,  0.83352661,  0.81789649]),\n",
       " 'split0_train_f1_macro': array([ 0.87275832,  0.92822198,  0.96459513,  0.98414639]),\n",
       " 'split0_train_f1_micro': array([ 0.87424154,  0.92909538,  0.96505846,  0.98430308]),\n",
       " 'split1_test_f1_macro': array([ 0.74192966,  0.79161832,  0.80250247,  0.78114874]),\n",
       " 'split1_test_f1_micro': array([ 0.79872057,  0.82998141,  0.83475247,  0.81771657]),\n",
       " 'split1_train_f1_macro': array([ 0.87263174,  0.92818617,  0.96504034,  0.98482534]),\n",
       " 'split1_train_f1_micro': array([ 0.87409692,  0.92906308,  0.96551231,  0.98497077]),\n",
       " 'split2_test_f1_macro': array([ 0.7447349 ,  0.79601107,  0.805412  ,  0.78341235]),\n",
       " 'split2_test_f1_micro': array([ 0.79986764,  0.83240262,  0.83639229,  0.82088743]),\n",
       " 'split2_train_f1_macro': array([ 0.87217122,  0.92710738,  0.96392996,  0.98413956]),\n",
       " 'split2_train_f1_micro': array([ 0.87364   ,  0.92800923,  0.96441077,  0.98430154]),\n",
       " 'std_fit_time': array([  5.94993892,   6.82189822,   3.51777488,  13.35580965]),\n",
       " 'std_score_time': array([  0.76437032,   0.90730775,  31.90059799,   3.75973055]),\n",
       " 'std_test_f1_macro': array([ 0.00117756,  0.00230265,  0.00127625,  0.0009697 ]),\n",
       " 'std_test_f1_micro': array([ 0.00085405,  0.00180557,  0.00117397,  0.0014542 ]),\n",
       " 'std_train_f1_macro': array([ 0.00025228,  0.0005172 ,  0.00045626,  0.00032168]),\n",
       " 'std_train_f1_micro': array([ 0.00025637,  0.00050458,  0.00045202,  0.00031512])}"
      ]
     },
     "execution_count": 83,
     "metadata": {},
     "output_type": "execute_result"
    }
   ],
   "source": [
    "svm_grid_res.cv_results_"
   ]
  },
  {
   "cell_type": "markdown",
   "metadata": {},
   "source": [
    "С = 1"
   ]
  },
  {
   "cell_type": "code",
   "execution_count": 155,
   "metadata": {
    "collapsed": true
   },
   "outputs": [],
   "source": [
    "svm_balanced = pipeline_svm.fit(train_x_balanced, train_y_balanced_labels)"
   ]
  },
  {
   "cell_type": "code",
   "execution_count": 156,
   "metadata": {
    "collapsed": true
   },
   "outputs": [],
   "source": [
    "svm_prediction = svm_balanced.predict(valid_x)"
   ]
  },
  {
   "cell_type": "code",
   "execution_count": 157,
   "metadata": {},
   "outputs": [
    {
     "data": {
      "text/plain": [
       "(0.80692726674296955, 0.83635332303910759, 0.83830500841415501)"
      ]
     },
     "execution_count": 157,
     "metadata": {},
     "output_type": "execute_result"
    }
   ],
   "source": [
    "metrics.f1_score(valid_y_labels, svm_prediction, average='macro'), \\\n",
    "metrics.f1_score(valid_y_labels, svm_prediction, average='micro'), \\\n",
    "metrics.f1_score(valid_y_labels, svm_prediction, average='weighted')"
   ]
  },
  {
   "cell_type": "code",
   "execution_count": 158,
   "metadata": {},
   "outputs": [
    {
     "name": "stdout",
     "output_type": "stream",
     "text": [
      "                   precision    recall  f1-score   support\n",
      "\n",
      "           Бизнес       0.55      0.76      0.64      1465\n",
      "      Бывший СССР       0.81      0.91      0.86     11917\n",
      "         Из жизни       0.57      0.74      0.65      5909\n",
      "   Интернет и СМИ       0.76      0.81      0.78      9773\n",
      "         Культура       0.89      0.92      0.90     12244\n",
      "              Мир       0.85      0.80      0.83     31219\n",
      "  Наука и техника       0.84      0.87      0.86     11851\n",
      "      Путешествия       0.69      0.85      0.76      1000\n",
      "           Россия       0.89      0.75      0.82     36942\n",
      "Силовые структуры       0.53      0.81      0.64      3400\n",
      "            Спорт       0.97      0.97      0.97     13854\n",
      "          Финансы       0.87      0.89      0.88     18136\n",
      "         Ценности       0.90      0.91      0.91       955\n",
      "\n",
      "      avg / total       0.85      0.84      0.84    158665\n",
      "\n"
     ]
    }
   ],
   "source": [
    "print(metrics.classification_report(y_pred=svm_prediction, y_true=valid_y_labels, target_names=encoder.classes_))"
   ]
  },
  {
   "cell_type": "code",
   "execution_count": 159,
   "metadata": {},
   "outputs": [
    {
     "data": {
      "text/plain": [
       "<matplotlib.axes._subplots.AxesSubplot at 0x205b4b5d6d8>"
      ]
     },
     "execution_count": 159,
     "metadata": {},
     "output_type": "execute_result"
    },
    {
     "data": {
      "image/png": "[encoded data removed]",
      "text/plain": [
       "<matplotlib.figure.Figure at 0x205acedf400>"
      ]
     },
     "metadata": {},
     "output_type": "display_data"
    }
   ],
   "source": [
    "cm = metrics.confusion_matrix(y_pred=svm_prediction, y_true=valid_y_labels)\n",
    "plt.figure(figsize = (15,10))\n",
    "sns.heatmap(cm, annot=True, fmt='.5g', xticklabels=encoder.classes_, yticklabels=encoder.classes_)"
   ]
  },
  {
   "cell_type": "code",
   "execution_count": 269,
   "metadata": {
    "scrolled": true
   },
   "outputs": [
    {
     "data": {
      "text/html": [
       "<div>\n",
       "<style>\n",
       "    .dataframe thead tr:only-child th {\n",
       "        text-align: right;\n",
       "    }\n",
       "\n",
       "    .dataframe thead th {\n",
       "        text-align: left;\n",
       "    }\n",
       "\n",
       "    .dataframe tbody tr th {\n",
       "        vertical-align: top;\n",
       "    }\n",
       "</style>\n",
       "<table border=\"1\" class=\"dataframe\">\n",
       "  <thead>\n",
       "    <tr style=\"text-align: right;\">\n",
       "      <th></th>\n",
       "      <th></th>\n",
       "      <th></th>\n",
       "      <th>precision</th>\n",
       "      <th>recall</th>\n",
       "      <th>f1</th>\n",
       "    </tr>\n",
       "    <tr>\n",
       "      <th>topic</th>\n",
       "      <th>support</th>\n",
       "      <th>method</th>\n",
       "      <th></th>\n",
       "      <th></th>\n",
       "      <th></th>\n",
       "    </tr>\n",
       "  </thead>\n",
       "  <tbody>\n",
       "    <tr>\n",
       "      <th rowspan=\"2\" valign=\"top\">Бизнес</th>\n",
       "      <th rowspan=\"2\" valign=\"top\">1465</th>\n",
       "      <th>NB</th>\n",
       "      <td>0.24</td>\n",
       "      <td>0.74</td>\n",
       "      <td>0.36</td>\n",
       "    </tr>\n",
       "    <tr>\n",
       "      <th>SVM</th>\n",
       "      <td>0.55</td>\n",
       "      <td>0.76</td>\n",
       "      <td>0.64</td>\n",
       "    </tr>\n",
       "    <tr>\n",
       "      <th rowspan=\"2\" valign=\"top\">Бывший СССР</th>\n",
       "      <th rowspan=\"2\" valign=\"top\">11917</th>\n",
       "      <th>NB</th>\n",
       "      <td>0.71</td>\n",
       "      <td>0.83</td>\n",
       "      <td>0.76</td>\n",
       "    </tr>\n",
       "    <tr>\n",
       "      <th>SVM</th>\n",
       "      <td>0.81</td>\n",
       "      <td>0.91</td>\n",
       "      <td>0.86</td>\n",
       "    </tr>\n",
       "    <tr>\n",
       "      <th rowspan=\"2\" valign=\"top\">Из жизни</th>\n",
       "      <th rowspan=\"2\" valign=\"top\">5909</th>\n",
       "      <th>NB</th>\n",
       "      <td>0.44</td>\n",
       "      <td>0.76</td>\n",
       "      <td>0.55</td>\n",
       "    </tr>\n",
       "    <tr>\n",
       "      <th>SVM</th>\n",
       "      <td>0.57</td>\n",
       "      <td>0.74</td>\n",
       "      <td>0.65</td>\n",
       "    </tr>\n",
       "    <tr>\n",
       "      <th rowspan=\"2\" valign=\"top\">Интернет и СМИ</th>\n",
       "      <th rowspan=\"2\" valign=\"top\">9773</th>\n",
       "      <th>NB</th>\n",
       "      <td>0.69</td>\n",
       "      <td>0.71</td>\n",
       "      <td>0.70</td>\n",
       "    </tr>\n",
       "    <tr>\n",
       "      <th>SVM</th>\n",
       "      <td>0.76</td>\n",
       "      <td>0.81</td>\n",
       "      <td>0.78</td>\n",
       "    </tr>\n",
       "    <tr>\n",
       "      <th rowspan=\"2\" valign=\"top\">Культура</th>\n",
       "      <th rowspan=\"2\" valign=\"top\">12244</th>\n",
       "      <th>NB</th>\n",
       "      <td>0.86</td>\n",
       "      <td>0.88</td>\n",
       "      <td>0.87</td>\n",
       "    </tr>\n",
       "    <tr>\n",
       "      <th>SVM</th>\n",
       "      <td>0.89</td>\n",
       "      <td>0.92</td>\n",
       "      <td>0.90</td>\n",
       "    </tr>\n",
       "    <tr>\n",
       "      <th rowspan=\"2\" valign=\"top\">Мир</th>\n",
       "      <th rowspan=\"2\" valign=\"top\">31219</th>\n",
       "      <th>NB</th>\n",
       "      <td>0.83</td>\n",
       "      <td>0.72</td>\n",
       "      <td>0.77</td>\n",
       "    </tr>\n",
       "    <tr>\n",
       "      <th>SVM</th>\n",
       "      <td>0.85</td>\n",
       "      <td>0.80</td>\n",
       "      <td>0.83</td>\n",
       "    </tr>\n",
       "    <tr>\n",
       "      <th rowspan=\"2\" valign=\"top\">Наука и техника</th>\n",
       "      <th rowspan=\"2\" valign=\"top\">11851</th>\n",
       "      <th>NB</th>\n",
       "      <td>0.84</td>\n",
       "      <td>0.75</td>\n",
       "      <td>0.79</td>\n",
       "    </tr>\n",
       "    <tr>\n",
       "      <th>SVM</th>\n",
       "      <td>0.84</td>\n",
       "      <td>0.87</td>\n",
       "      <td>0.86</td>\n",
       "    </tr>\n",
       "    <tr>\n",
       "      <th rowspan=\"2\" valign=\"top\">Путешествия</th>\n",
       "      <th rowspan=\"2\" valign=\"top\">1000</th>\n",
       "      <th>NB</th>\n",
       "      <td>0.31</td>\n",
       "      <td>0.84</td>\n",
       "      <td>0.46</td>\n",
       "    </tr>\n",
       "    <tr>\n",
       "      <th>SVM</th>\n",
       "      <td>0.69</td>\n",
       "      <td>0.85</td>\n",
       "      <td>0.76</td>\n",
       "    </tr>\n",
       "    <tr>\n",
       "      <th rowspan=\"2\" valign=\"top\">Россия</th>\n",
       "      <th rowspan=\"2\" valign=\"top\">36942</th>\n",
       "      <th>NB</th>\n",
       "      <td>0.84</td>\n",
       "      <td>0.69</td>\n",
       "      <td>0.76</td>\n",
       "    </tr>\n",
       "    <tr>\n",
       "      <th>SVM</th>\n",
       "      <td>0.89</td>\n",
       "      <td>0.75</td>\n",
       "      <td>0.82</td>\n",
       "    </tr>\n",
       "    <tr>\n",
       "      <th rowspan=\"2\" valign=\"top\">Силовые структуры</th>\n",
       "      <th rowspan=\"2\" valign=\"top\">3400</th>\n",
       "      <th>NB</th>\n",
       "      <td>0.35</td>\n",
       "      <td>0.62</td>\n",
       "      <td>0.44</td>\n",
       "    </tr>\n",
       "    <tr>\n",
       "      <th>SVM</th>\n",
       "      <td>0.53</td>\n",
       "      <td>0.81</td>\n",
       "      <td>0.64</td>\n",
       "    </tr>\n",
       "    <tr>\n",
       "      <th rowspan=\"2\" valign=\"top\">Спорт</th>\n",
       "      <th rowspan=\"2\" valign=\"top\">13854</th>\n",
       "      <th>NB</th>\n",
       "      <td>0.97</td>\n",
       "      <td>0.95</td>\n",
       "      <td>0.96</td>\n",
       "    </tr>\n",
       "    <tr>\n",
       "      <th>SVM</th>\n",
       "      <td>0.97</td>\n",
       "      <td>0.97</td>\n",
       "      <td>0.97</td>\n",
       "    </tr>\n",
       "    <tr>\n",
       "      <th rowspan=\"2\" valign=\"top\">Финансы</th>\n",
       "      <th rowspan=\"2\" valign=\"top\">18136</th>\n",
       "      <th>NB</th>\n",
       "      <td>0.86</td>\n",
       "      <td>0.77</td>\n",
       "      <td>0.81</td>\n",
       "    </tr>\n",
       "    <tr>\n",
       "      <th>SVM</th>\n",
       "      <td>0.87</td>\n",
       "      <td>0.89</td>\n",
       "      <td>0.88</td>\n",
       "    </tr>\n",
       "    <tr>\n",
       "      <th rowspan=\"2\" valign=\"top\">Ценности</th>\n",
       "      <th rowspan=\"2\" valign=\"top\">955</th>\n",
       "      <th>NB</th>\n",
       "      <td>0.69</td>\n",
       "      <td>0.92</td>\n",
       "      <td>0.79</td>\n",
       "    </tr>\n",
       "    <tr>\n",
       "      <th>SVM</th>\n",
       "      <td>0.90</td>\n",
       "      <td>0.91</td>\n",
       "      <td>0.91</td>\n",
       "    </tr>\n",
       "  </tbody>\n",
       "</table>\n",
       "</div>"
      ],
      "text/plain": [
       "                                  precision  recall    f1\n",
       "topic             support method                         \n",
       "Бизнес            1465    NB           0.24    0.74  0.36\n",
       "                          SVM          0.55    0.76  0.64\n",
       "Бывший СССР       11917   NB           0.71    0.83  0.76\n",
       "                          SVM          0.81    0.91  0.86\n",
       "Из жизни          5909    NB           0.44    0.76  0.55\n",
       "                          SVM          0.57    0.74  0.65\n",
       "Интернет и СМИ    9773    NB           0.69    0.71  0.70\n",
       "                          SVM          0.76    0.81  0.78\n",
       "Культура          12244   NB           0.86    0.88  0.87\n",
       "                          SVM          0.89    0.92  0.90\n",
       "Мир               31219   NB           0.83    0.72  0.77\n",
       "                          SVM          0.85    0.80  0.83\n",
       "Наука и техника   11851   NB           0.84    0.75  0.79\n",
       "                          SVM          0.84    0.87  0.86\n",
       "Путешествия       1000    NB           0.31    0.84  0.46\n",
       "                          SVM          0.69    0.85  0.76\n",
       "Россия            36942   NB           0.84    0.69  0.76\n",
       "                          SVM          0.89    0.75  0.82\n",
       "Силовые структуры 3400    NB           0.35    0.62  0.44\n",
       "                          SVM          0.53    0.81  0.64\n",
       "Спорт             13854   NB           0.97    0.95  0.96\n",
       "                          SVM          0.97    0.97  0.97\n",
       "Финансы           18136   NB           0.86    0.77  0.81\n",
       "                          SVM          0.87    0.89  0.88\n",
       "Ценности          955     NB           0.69    0.92  0.79\n",
       "                          SVM          0.90    0.91  0.91"
      ]
     },
     "execution_count": 269,
     "metadata": {},
     "output_type": "execute_result"
    }
   ],
   "source": [
    "metrics1 = metrics.precision_recall_fscore_support(y_pred=svm_prediction, y_true=valid_y_labels, average=None)\n",
    "metrics2 = metrics.precision_recall_fscore_support(y_pred=nb_prediction, y_true=valid_y_labels, average=None)\n",
    "\n",
    "resdf = pd.DataFrame(np.array(metrics1).transpose(), columns=['precision','recall','f1','support'])\n",
    "resdf['method'] = 'SVM'\n",
    "resdf2 = pd.DataFrame(np.array(metrics2).transpose(), columns=['precision','recall','f1','support'])\n",
    "resdf2['method'] = 'NB'\n",
    "\n",
    "ddf = pd.concat([resdf, resdf2], axis=0)\n",
    "ddf.index = ddf.index.map(dict(zip(resdf.index, encoder.classes_)).get)\n",
    "ddf['support'] =ddf['support'].astype(int)\n",
    "ddf = ddf.reset_index() \\\n",
    "    .rename(columns ={'index': 'topic'}) \\\n",
    "    .set_index(['topic', 'support', 'method']) \\\n",
    "    .sort_index() \\\n",
    "    .round(2)\n",
    "    \n",
    "ddf"
   ]
  },
  {
   "cell_type": "markdown",
   "metadata": {},
   "source": [
    "Снова лучше себя показывает SVM. По каждому классу его точно как минимум не уступает показателю NB, а в большинстве случаев значительно превосходит. Полнота получилась у NB лучше лишь для класса *Ценности*."
   ]
  },
  {
   "cell_type": "code",
   "execution_count": 313,
   "metadata": {
    "scrolled": true
   },
   "outputs": [
    {
     "data": {
      "text/html": [
       "<div>\n",
       "<style>\n",
       "    .dataframe thead tr:only-child th {\n",
       "        text-align: right;\n",
       "    }\n",
       "\n",
       "    .dataframe thead th {\n",
       "        text-align: left;\n",
       "    }\n",
       "\n",
       "    .dataframe tbody tr th {\n",
       "        vertical-align: top;\n",
       "    }\n",
       "</style>\n",
       "<table border=\"1\" class=\"dataframe\">\n",
       "  <thead>\n",
       "    <tr style=\"text-align: right;\">\n",
       "      <th></th>\n",
       "      <th>prec-micro</th>\n",
       "      <th>prec-macro</th>\n",
       "      <th>rec-micro</th>\n",
       "      <th>rec-macro</th>\n",
       "      <th>F1-micro</th>\n",
       "      <th>F1-macro</th>\n",
       "    </tr>\n",
       "    <tr>\n",
       "      <th>method</th>\n",
       "      <th></th>\n",
       "      <th></th>\n",
       "      <th></th>\n",
       "      <th></th>\n",
       "      <th></th>\n",
       "      <th></th>\n",
       "    </tr>\n",
       "  </thead>\n",
       "  <tbody>\n",
       "    <tr>\n",
       "      <th>NB</th>\n",
       "      <td>0.80</td>\n",
       "      <td>0.76</td>\n",
       "      <td>0.80</td>\n",
       "      <td>0.70</td>\n",
       "      <td>0.80</td>\n",
       "      <td>0.72</td>\n",
       "    </tr>\n",
       "    <tr>\n",
       "      <th>SVM</th>\n",
       "      <td>0.86</td>\n",
       "      <td>0.85</td>\n",
       "      <td>0.86</td>\n",
       "      <td>0.80</td>\n",
       "      <td>0.86</td>\n",
       "      <td>0.82</td>\n",
       "    </tr>\n",
       "    <tr>\n",
       "      <th>NB-balanced</th>\n",
       "      <td>0.76</td>\n",
       "      <td>0.66</td>\n",
       "      <td>0.76</td>\n",
       "      <td>0.78</td>\n",
       "      <td>0.76</td>\n",
       "      <td>0.70</td>\n",
       "    </tr>\n",
       "    <tr>\n",
       "      <th>SVM-balanced</th>\n",
       "      <td>0.84</td>\n",
       "      <td>0.78</td>\n",
       "      <td>0.84</td>\n",
       "      <td>0.85</td>\n",
       "      <td>0.84</td>\n",
       "      <td>0.81</td>\n",
       "    </tr>\n",
       "  </tbody>\n",
       "</table>\n",
       "</div>"
      ],
      "text/plain": [
       "              prec-micro  prec-macro  rec-micro  rec-macro  F1-micro  F1-macro\n",
       "method                                                                        \n",
       "NB                  0.80        0.76       0.80       0.70      0.80      0.72\n",
       "SVM                 0.86        0.85       0.86       0.80      0.86      0.82\n",
       "NB-balanced         0.76        0.66       0.76       0.78      0.76      0.70\n",
       "SVM-balanced        0.84        0.78       0.84       0.85      0.84      0.81"
      ]
     },
     "execution_count": 313,
     "metadata": {},
     "output_type": "execute_result"
    }
   ],
   "source": [
    "metrics4 = np.array([\n",
    "    [\n",
    "        'NB-balanced',\n",
    "        metrics.precision_score(y_pred=nb_prediction, y_true=valid_y_labels, average='micro'),\n",
    "        metrics.precision_score(y_pred=nb_prediction, y_true=valid_y_labels, average='macro'),\n",
    "        metrics.recall_score(y_pred=nb_prediction, y_true=valid_y_labels, average='micro'),\n",
    "        metrics.recall_score(y_pred=nb_prediction, y_true=valid_y_labels, average='macro'),\n",
    "        metrics.f1_score(y_pred=nb_prediction, y_true=valid_y_labels, average='micro'),\n",
    "        metrics.f1_score(y_pred=nb_prediction, y_true=valid_y_labels, average='macro'),\n",
    "    ],\n",
    "    [\n",
    "        'SVM-balanced',\n",
    "        metrics.precision_score(y_pred=svm_prediction, y_true=valid_y_labels, average='micro'),\n",
    "        metrics.precision_score(y_pred=svm_prediction, y_true=valid_y_labels, average='macro'),\n",
    "        metrics.recall_score(y_pred=svm_prediction, y_true=valid_y_labels, average='micro'),\n",
    "        metrics.recall_score(y_pred=svm_prediction, y_true=valid_y_labels, average='macro'),\n",
    "        metrics.f1_score(y_pred=svm_prediction, y_true=valid_y_labels, average='micro'),\n",
    "        metrics.f1_score(y_pred=svm_prediction, y_true=valid_y_labels, average='macro'),\n",
    "    ]\n",
    "])\n",
    "columns = ['method', 'prec-micro', 'prec-macro', 'rec-micro', 'rec-macro', 'F1-micro', 'F1-macro']\n",
    "pd.DataFrame(np.vstack((metrics3, metrics4)), columns=columns).set_index('method').astype(float).round(2)"
   ]
  },
  {
   "cell_type": "markdown",
   "metadata": {},
   "source": [
    "По всем метрикам качества следует отдать предпочтение SVM.\n"
   ]
  },
  {
   "cell_type": "markdown",
   "metadata": {},
   "source": [
    "В результате балансировки обе модели стали полнее определять малопредставленные классы (выросло macro recall). остальные показатели снизились. В задаче классификации новостных статей, по моему мнению, важным показателем является именно Precision. И в общем SVM все равно показал себя лучше, чем NB. "
   ]
  },
  {
   "cell_type": "code",
   "execution_count": null,
   "metadata": {
    "collapsed": true
   },
   "outputs": [],
   "source": []
  }
 ],
 "metadata": {
  "kernelspec": {
   "display_name": "Python 3",
   "language": "python",
   "name": "python3"
  },
  "language_info": {
   "codemirror_mode": {
    "name": "ipython",
    "version": 3
   },
   "file_extension": ".py",
   "mimetype": "text/x-python",
   "name": "python",
   "nbconvert_exporter": "python",
   "pygments_lexer": "ipython3",
   "version": "3.6.3"
  }
 },
 "nbformat": 4,
 "nbformat_minor": 2
}
